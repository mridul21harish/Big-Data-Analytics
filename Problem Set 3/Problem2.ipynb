{
 "cells": [
  {
   "cell_type": "markdown",
   "metadata": {},
   "source": [
    "Question 2 - Dataset Description\n",
    "It is a well-known fact that Millenials LOVE Avocado Toast. It's also a well known fact that all\n",
    "Millenials live in their parents basements.\n",
    "\n",
    "Clearly, they aren't buying home because they are buying too much Avocado Toast!\n",
    "\n",
    "But maybe there's hope... if a Millenial could find a city with cheap avocados, they could live out the\n",
    "Millenial American Dream. Help them to filter out the clutter using some pre-processing techniques.\n",
    "\n",
    "Some relevant columns in the dataset:\n",
    "\n",
    "• Date - The date of the observation\n",
    "\n",
    "• Average Price - the average price of a single avocado\n",
    "\n",
    "• type - conventional or organic\n",
    "\n",
    "• year - the year\n",
    "\n",
    "• Region - the city or region of the observation\n",
    "\n",
    "• Total Volume - Total number of avocados sold\n",
    "\n",
    "• 4046 - Total number of avocados with PLU* 4046 sold\n",
    "\n",
    "• 4225 - Total number of avocados with PLU* 4225 sold\n",
    "\n",
    "• 4770 - Total number of avocados with PLU* 4770 sold\n",
    "\n",
    "(Product Lookup codes (PLU’s)) *\n",
    "\n",
    "a. Sort the attribute “Total Volume” in the given dataset and distribute the data into equal\n",
    "sized/frequency bins. Let the number of bins be 250. Smooth the sorted data by\n",
    "\n",
    "(i)bin-means\n",
    "\n",
    "(ii) bin-medians\n",
    "\n",
    "(iii) bin-boundaries\n",
    "\n",
    "b. The dataset represents weekly retail scan data for National retail volume (units) and price. However,\n",
    "the company is interested in knowing the monthly (total per month) and annual sales (total per year),\n",
    "rather than the total per week. So, reduce the data accordingly.\n",
    "\n",
    "c. Summarize the number of missing values for each attribute\n",
    "\n",
    "d. Populate data for the missing values of the attribute= “Average Price” by averaging all the values of\n",
    "the “Avg Price” attribute that fall under the same “REGION” attribute value.\n",
    "\n",
    "e. Discretize the attribute= “Date” using concept hierarchy into {Old, New, Recent}\n",
    "(Consider 2015,2016 : Old, 2017: New, 2018: Recent)."
   ]
  },
  {
   "cell_type": "code",
   "execution_count": 1,
   "metadata": {},
   "outputs": [],
   "source": [
    "import pandas as pd\n",
    "import numpy as np\n",
    "import random\n",
    "import matplotlib.pyplot as plt"
   ]
  },
  {
   "cell_type": "code",
   "execution_count": 2,
   "metadata": {},
   "outputs": [],
   "source": [
    "Avacado_data = pd.read_csv('Avocado Dataset.csv')"
   ]
  },
  {
   "cell_type": "code",
   "execution_count": 3,
   "metadata": {},
   "outputs": [
    {
     "data": {
      "text/html": [
       "<div>\n",
       "<style scoped>\n",
       "    .dataframe tbody tr th:only-of-type {\n",
       "        vertical-align: middle;\n",
       "    }\n",
       "\n",
       "    .dataframe tbody tr th {\n",
       "        vertical-align: top;\n",
       "    }\n",
       "\n",
       "    .dataframe thead th {\n",
       "        text-align: right;\n",
       "    }\n",
       "</style>\n",
       "<table border=\"1\" class=\"dataframe\">\n",
       "  <thead>\n",
       "    <tr style=\"text-align: right;\">\n",
       "      <th></th>\n",
       "      <th>Date</th>\n",
       "      <th>AveragePrice</th>\n",
       "      <th>Total Volume</th>\n",
       "      <th>4046</th>\n",
       "      <th>4225</th>\n",
       "      <th>4770</th>\n",
       "      <th>Total Bags</th>\n",
       "      <th>Small Bags</th>\n",
       "      <th>Large Bags</th>\n",
       "      <th>XLarge Bags</th>\n",
       "      <th>type</th>\n",
       "      <th>year</th>\n",
       "      <th>region</th>\n",
       "    </tr>\n",
       "  </thead>\n",
       "  <tbody>\n",
       "    <tr>\n",
       "      <th>0</th>\n",
       "      <td>27-12-2015</td>\n",
       "      <td>1.33</td>\n",
       "      <td>64236.62</td>\n",
       "      <td>1036.74</td>\n",
       "      <td>54454.85</td>\n",
       "      <td>48.16</td>\n",
       "      <td>8696.87</td>\n",
       "      <td>8603.62</td>\n",
       "      <td>93.25</td>\n",
       "      <td>0.0</td>\n",
       "      <td>conventional</td>\n",
       "      <td>2015</td>\n",
       "      <td>Albany</td>\n",
       "    </tr>\n",
       "    <tr>\n",
       "      <th>1</th>\n",
       "      <td>20-12-2015</td>\n",
       "      <td>1.35</td>\n",
       "      <td>54876.98</td>\n",
       "      <td>674.28</td>\n",
       "      <td>44638.81</td>\n",
       "      <td>58.33</td>\n",
       "      <td>9505.56</td>\n",
       "      <td>9408.07</td>\n",
       "      <td>97.49</td>\n",
       "      <td>0.0</td>\n",
       "      <td>conventional</td>\n",
       "      <td>2015</td>\n",
       "      <td>Albany</td>\n",
       "    </tr>\n",
       "    <tr>\n",
       "      <th>2</th>\n",
       "      <td>13-12-2015</td>\n",
       "      <td>0.93</td>\n",
       "      <td>118220.22</td>\n",
       "      <td>794.70</td>\n",
       "      <td>109149.67</td>\n",
       "      <td>130.50</td>\n",
       "      <td>8145.35</td>\n",
       "      <td>8042.21</td>\n",
       "      <td>103.14</td>\n",
       "      <td>0.0</td>\n",
       "      <td>conventional</td>\n",
       "      <td>2015</td>\n",
       "      <td>Albany</td>\n",
       "    </tr>\n",
       "    <tr>\n",
       "      <th>3</th>\n",
       "      <td>06-12-2015</td>\n",
       "      <td>1.08</td>\n",
       "      <td>78992.15</td>\n",
       "      <td>1132.00</td>\n",
       "      <td>71976.41</td>\n",
       "      <td>72.58</td>\n",
       "      <td>5811.16</td>\n",
       "      <td>5677.40</td>\n",
       "      <td>133.76</td>\n",
       "      <td>0.0</td>\n",
       "      <td>conventional</td>\n",
       "      <td>2015</td>\n",
       "      <td>Albany</td>\n",
       "    </tr>\n",
       "    <tr>\n",
       "      <th>4</th>\n",
       "      <td>29-11-2015</td>\n",
       "      <td>1.29</td>\n",
       "      <td>51039.60</td>\n",
       "      <td>941.48</td>\n",
       "      <td>43838.39</td>\n",
       "      <td>75.78</td>\n",
       "      <td>6183.95</td>\n",
       "      <td>5986.26</td>\n",
       "      <td>197.69</td>\n",
       "      <td>0.0</td>\n",
       "      <td>conventional</td>\n",
       "      <td>2015</td>\n",
       "      <td>Albany</td>\n",
       "    </tr>\n",
       "  </tbody>\n",
       "</table>\n",
       "</div>"
      ],
      "text/plain": [
       "         Date AveragePrice  Total Volume     4046       4225    4770  \\\n",
       "0  27-12-2015         1.33      64236.62  1036.74   54454.85   48.16   \n",
       "1  20-12-2015         1.35      54876.98   674.28   44638.81   58.33   \n",
       "2  13-12-2015         0.93     118220.22   794.70  109149.67  130.50   \n",
       "3  06-12-2015         1.08      78992.15  1132.00   71976.41   72.58   \n",
       "4  29-11-2015         1.29      51039.60   941.48   43838.39   75.78   \n",
       "\n",
       "   Total Bags  Small Bags  Large Bags  XLarge Bags          type  year  region  \n",
       "0     8696.87     8603.62       93.25          0.0  conventional  2015  Albany  \n",
       "1     9505.56     9408.07       97.49          0.0  conventional  2015  Albany  \n",
       "2     8145.35     8042.21      103.14          0.0  conventional  2015  Albany  \n",
       "3     5811.16     5677.40      133.76          0.0  conventional  2015  Albany  \n",
       "4     6183.95     5986.26      197.69          0.0  conventional  2015  Albany  "
      ]
     },
     "execution_count": 3,
     "metadata": {},
     "output_type": "execute_result"
    }
   ],
   "source": [
    "Avacado_data.head()"
   ]
  },
  {
   "cell_type": "code",
   "execution_count": 5,
   "metadata": {},
   "outputs": [],
   "source": [
    "Total_Volume = list(Avacado_data['Total Volume'])"
   ]
  },
  {
   "cell_type": "code",
   "execution_count": 6,
   "metadata": {},
   "outputs": [],
   "source": [
    "Total_Volume = sorted(Total_Volume)"
   ]
  },
  {
   "cell_type": "code",
   "execution_count": 7,
   "metadata": {},
   "outputs": [
    {
     "name": "stdout",
     "output_type": "stream",
     "text": [
      "[84.56, 379.82, 385.55, 419.98, 472.82, 482.26, 515.01, 530.96, 542.85, 561.1]\n"
     ]
    }
   ],
   "source": [
    "print(Total_Volume[:10])"
   ]
  },
  {
   "cell_type": "code",
   "execution_count": 8,
   "metadata": {},
   "outputs": [],
   "source": [
    "Bins = []\n",
    "Size = 250\n",
    "\n",
    "for i in range(int(len(Total_Volume)/Size)):\n",
    "    Bins.append(Total_Volume[Size*i: Size*i + Size] )"
   ]
  },
  {
   "cell_type": "code",
   "execution_count": 9,
   "metadata": {},
   "outputs": [
    {
     "name": "stdout",
     "output_type": "stream",
     "text": [
      "Bin Size:  250\n"
     ]
    }
   ],
   "source": [
    "print(\"Bin Size: \", len(Bins[0]))"
   ]
  },
  {
   "cell_type": "code",
   "execution_count": 11,
   "metadata": {},
   "outputs": [],
   "source": [
    "Mean_Bins = []\n",
    "\n",
    "for i in Bins:\n",
    "    Mean = np.array(i).mean()\n",
    "    Mean_Bins.append([Mean]*Size) "
   ]
  },
  {
   "cell_type": "code",
   "execution_count": 12,
   "metadata": {},
   "outputs": [
    {
     "name": "stdout",
     "output_type": "stream",
     "text": [
      "Mean Bin Size:  250\n"
     ]
    }
   ],
   "source": [
    "print(\"Mean Bin Size: \", len(Mean_Bins[0]))"
   ]
  },
  {
   "cell_type": "code",
   "execution_count": 15,
   "metadata": {},
   "outputs": [],
   "source": [
    "Median_Bins = []\n",
    "\n",
    "for j in Bins:\n",
    "    Median = np.median(np.array(j))\n",
    "    Median_Bins.append([Median]*Size)"
   ]
  },
  {
   "cell_type": "code",
   "execution_count": 16,
   "metadata": {},
   "outputs": [
    {
     "name": "stdout",
     "output_type": "stream",
     "text": [
      "Median Bin Size:  250\n"
     ]
    }
   ],
   "source": [
    "print(\"Median Bin Size: \", len(Median_Bins[0]))"
   ]
  },
  {
   "cell_type": "code",
   "execution_count": 17,
   "metadata": {},
   "outputs": [],
   "source": [
    "Boundary_Bins = []\n",
    "\n",
    "for k in Bins:\n",
    "    bins = []\n",
    "    for val in k:\n",
    "        if((val - k[0])<=(k[249] - val)):\n",
    "            bins.append(k[0])\n",
    "        else:\n",
    "            bins.append(k[249])\n",
    "    Boundary_Bins.append(bins)"
   ]
  },
  {
   "cell_type": "code",
   "execution_count": 18,
   "metadata": {},
   "outputs": [
    {
     "name": "stdout",
     "output_type": "stream",
     "text": [
      "Boundary Bin Size:  250\n"
     ]
    }
   ],
   "source": [
    "print(\"Boundary Bin Size: \", len(Boundary_Bins[0]))"
   ]
  },
  {
   "cell_type": "code",
   "execution_count": 19,
   "metadata": {},
   "outputs": [],
   "source": [
    "Dates = Avacado_data.loc[:,'Date']\n",
    "Months = list(set([i[3:] for i in Dates]))"
   ]
  },
  {
   "cell_type": "code",
   "execution_count": 20,
   "metadata": {},
   "outputs": [
    {
     "data": {
      "text/plain": [
       "0        27-12-2015\n",
       "1        20-12-2015\n",
       "2        13-12-2015\n",
       "3        06-12-2015\n",
       "4        29-11-2015\n",
       "            ...    \n",
       "18245    28-01-2018\n",
       "18246    21-01-2018\n",
       "18247    14-01-2018\n",
       "18248    07-01-2018\n",
       "18249    18-03-2018\n",
       "Name: Date, Length: 18250, dtype: object"
      ]
     },
     "execution_count": 20,
     "metadata": {},
     "output_type": "execute_result"
    }
   ],
   "source": [
    "Dates"
   ]
  },
  {
   "cell_type": "code",
   "execution_count": 21,
   "metadata": {},
   "outputs": [
    {
     "data": {
      "text/plain": [
       "['03-2018',\n",
       " '01-2018',\n",
       " '02-2015',\n",
       " '03-2015',\n",
       " '03-2016',\n",
       " '10-2017',\n",
       " '12-2016',\n",
       " '05-2015',\n",
       " '01-2015',\n",
       " '10-2016',\n",
       " '12-2017',\n",
       " '08-2017',\n",
       " '02-2016',\n",
       " '06-2015',\n",
       " '11-2017',\n",
       " '08-2015',\n",
       " '07-2016',\n",
       " '09-2016',\n",
       " '01-2017',\n",
       " '05-2017',\n",
       " '02-2017',\n",
       " '12-2015',\n",
       " '06-2016',\n",
       " '07-2017',\n",
       " '05-2016',\n",
       " '04-2015',\n",
       " '11-2016',\n",
       " '09-2017',\n",
       " '09-2015',\n",
       " '03-2017',\n",
       " '02-2018',\n",
       " '04-2017',\n",
       " '01-2016',\n",
       " '08-2016',\n",
       " '06-2017',\n",
       " '04-2016',\n",
       " '11-2015',\n",
       " '07-2015',\n",
       " '10-2015']"
      ]
     },
     "execution_count": 21,
     "metadata": {},
     "output_type": "execute_result"
    }
   ],
   "source": [
    "Months"
   ]
  },
  {
   "cell_type": "code",
   "execution_count": 41,
   "metadata": {},
   "outputs": [],
   "source": [
    "AveragePrice = pd.to_numeric(Avacado_data.iloc[:,1], errors='coerce')\n",
    "Avacado_data['AveragePrice']\n",
    "\n",
    "Month = []\n",
    "AvgPrice = []\n",
    "TotVolume =[]\n",
    "Region = []\n",
    "\n",
    "for i in Months:\n",
    "    Monthly = Avacado_data.loc[Avacado_data['Date'].str.contains(\"[0-9][0-9]-\"+i,na=False)].groupby('region').sum()\n",
    "    Month.extend([i]*len(Monthly.index))\n",
    "    AvgPrice.extend(list(Monthly['AveragePrice']))\n",
    "    TotVolume.extend(list(Monthly['Total Volume']))\n",
    "    Region.extend(list(Monthly.index.values))"
   ]
  },
  {
   "cell_type": "code",
   "execution_count": 44,
   "metadata": {},
   "outputs": [
    {
     "data": {
      "text/html": [
       "<div>\n",
       "<style scoped>\n",
       "    .dataframe tbody tr th:only-of-type {\n",
       "        vertical-align: middle;\n",
       "    }\n",
       "\n",
       "    .dataframe tbody tr th {\n",
       "        vertical-align: top;\n",
       "    }\n",
       "\n",
       "    .dataframe thead th {\n",
       "        text-align: right;\n",
       "    }\n",
       "</style>\n",
       "<table border=\"1\" class=\"dataframe\">\n",
       "  <thead>\n",
       "    <tr style=\"text-align: right;\">\n",
       "      <th></th>\n",
       "      <th>Month</th>\n",
       "      <th>region</th>\n",
       "      <th>AveragePrice</th>\n",
       "      <th>Total Volume</th>\n",
       "    </tr>\n",
       "  </thead>\n",
       "  <tbody>\n",
       "    <tr>\n",
       "      <th>0</th>\n",
       "      <td>03-2018</td>\n",
       "      <td>Albany</td>\n",
       "      <td>11.65</td>\n",
       "      <td>550768.59</td>\n",
       "    </tr>\n",
       "    <tr>\n",
       "      <th>1</th>\n",
       "      <td>03-2018</td>\n",
       "      <td>Atlanta</td>\n",
       "      <td>10.16</td>\n",
       "      <td>2723324.59</td>\n",
       "    </tr>\n",
       "    <tr>\n",
       "      <th>2</th>\n",
       "      <td>03-2018</td>\n",
       "      <td>BaltimoreWashington</td>\n",
       "      <td>10.61</td>\n",
       "      <td>4157091.43</td>\n",
       "    </tr>\n",
       "    <tr>\n",
       "      <th>3</th>\n",
       "      <td>03-2018</td>\n",
       "      <td>Boise</td>\n",
       "      <td>12.04</td>\n",
       "      <td>388664.58</td>\n",
       "    </tr>\n",
       "    <tr>\n",
       "      <th>4</th>\n",
       "      <td>03-2018</td>\n",
       "      <td>Boston</td>\n",
       "      <td>12.64</td>\n",
       "      <td>2785537.88</td>\n",
       "    </tr>\n",
       "  </tbody>\n",
       "</table>\n",
       "</div>"
      ],
      "text/plain": [
       "     Month               region  AveragePrice  Total Volume\n",
       "0  03-2018               Albany         11.65     550768.59\n",
       "1  03-2018              Atlanta         10.16    2723324.59\n",
       "2  03-2018  BaltimoreWashington         10.61    4157091.43\n",
       "3  03-2018                Boise         12.04     388664.58\n",
       "4  03-2018               Boston         12.64    2785537.88"
      ]
     },
     "execution_count": 44,
     "metadata": {},
     "output_type": "execute_result"
    }
   ],
   "source": [
    "MonthlyData = pd.DataFrame.from_dict({'Month':Month,'region':Region, 'AveragePrice':AvgPrice, \"Total Volume\":TotVolume})\n",
    "MonthlyData.head()"
   ]
  },
  {
   "cell_type": "code",
   "execution_count": 45,
   "metadata": {},
   "outputs": [
    {
     "data": {
      "text/html": [
       "<div>\n",
       "<style scoped>\n",
       "    .dataframe tbody tr th:only-of-type {\n",
       "        vertical-align: middle;\n",
       "    }\n",
       "\n",
       "    .dataframe tbody tr th {\n",
       "        vertical-align: top;\n",
       "    }\n",
       "\n",
       "    .dataframe thead th {\n",
       "        text-align: right;\n",
       "    }\n",
       "</style>\n",
       "<table border=\"1\" class=\"dataframe\">\n",
       "  <thead>\n",
       "    <tr style=\"text-align: right;\">\n",
       "      <th></th>\n",
       "      <th>Year</th>\n",
       "      <th>region</th>\n",
       "      <th>Avg Price</th>\n",
       "      <th>Total Volume</th>\n",
       "    </tr>\n",
       "  </thead>\n",
       "  <tbody>\n",
       "    <tr>\n",
       "      <th>0</th>\n",
       "      <td>2016</td>\n",
       "      <td>Albany</td>\n",
       "      <td>159.53</td>\n",
       "      <td>5264335.59</td>\n",
       "    </tr>\n",
       "    <tr>\n",
       "      <th>1</th>\n",
       "      <td>2016</td>\n",
       "      <td>Atlanta</td>\n",
       "      <td>126.27</td>\n",
       "      <td>28326878.30</td>\n",
       "    </tr>\n",
       "    <tr>\n",
       "      <th>2</th>\n",
       "      <td>2016</td>\n",
       "      <td>BaltimoreWashington</td>\n",
       "      <td>165.11</td>\n",
       "      <td>40893802.32</td>\n",
       "    </tr>\n",
       "    <tr>\n",
       "      <th>3</th>\n",
       "      <td>2016</td>\n",
       "      <td>Boise</td>\n",
       "      <td>118.76</td>\n",
       "      <td>4653509.53</td>\n",
       "    </tr>\n",
       "    <tr>\n",
       "      <th>4</th>\n",
       "      <td>2016</td>\n",
       "      <td>Boston</td>\n",
       "      <td>148.32</td>\n",
       "      <td>30571315.07</td>\n",
       "    </tr>\n",
       "  </tbody>\n",
       "</table>\n",
       "</div>"
      ],
      "text/plain": [
       "   Year               region  Avg Price  Total Volume\n",
       "0  2016               Albany     159.53    5264335.59\n",
       "1  2016              Atlanta     126.27   28326878.30\n",
       "2  2016  BaltimoreWashington     165.11   40893802.32\n",
       "3  2016                Boise     118.76    4653509.53\n",
       "4  2016               Boston     148.32   30571315.07"
      ]
     },
     "execution_count": 45,
     "metadata": {},
     "output_type": "execute_result"
    }
   ],
   "source": [
    "Dates = Avacado_data.loc[:,'Date']\n",
    "Years = list(set([i[6:] for i in dates]))\n",
    "\n",
    "AveragePrice = pd.to_numeric(Avacado_data.iloc[:,1],errors='coerce')\n",
    "Avacado_data['AveragePrice'] = AveragePrice\n",
    "\n",
    "Year = []\n",
    "AvgPrice = []\n",
    "TotVolume = []\n",
    "Region = []\n",
    "\n",
    "for i in Years:\n",
    "    Yearly = Avacado_data.loc[Avacado_data['Date'].str.contains(\"[0-9][0-9]-[0-9][0-9]-\"+i,na=False)].groupby('region').sum()    \n",
    "    Year.extend([i]*len(Yearly.index))\n",
    "    AvgPrice.extend(list(Yearly['AveragePrice']))\n",
    "    TotVolume.extend(list(Yearly['Total Volume']))\n",
    "    Region.extend(list(Yearly.index.values))\n",
    "    \n",
    "YearlyData = pd.DataFrame.from_dict({'Year':year,'region':region,'Avg Price':AvgPrice,\"Total Volume\":TotVol})\n",
    "YearlyData.head()"
   ]
  },
  {
   "cell_type": "code",
   "execution_count": 46,
   "metadata": {},
   "outputs": [
    {
     "data": {
      "text/plain": [
       "Date             0\n",
       "AveragePrice    48\n",
       "Total Volume     0\n",
       "4046             0\n",
       "4225             0\n",
       "4770             0\n",
       "Total Bags       0\n",
       "Small Bags       0\n",
       "Large Bags       0\n",
       "XLarge Bags      0\n",
       "type             0\n",
       "year             0\n",
       "region           0\n",
       "dtype: int64"
      ]
     },
     "execution_count": 46,
     "metadata": {},
     "output_type": "execute_result"
    }
   ],
   "source": [
    "Avacado_data.isnull().sum()"
   ]
  },
  {
   "cell_type": "code",
   "execution_count": 47,
   "metadata": {},
   "outputs": [],
   "source": [
    "for i in range(len(Avacado_data)):\n",
    "    if(np.isnan(Avacado_data.iloc[i]['AveragePrice'])):\n",
    "        Avacado_data.iloc[i,1]=Avacado_data[Avacado_data['region']==Avacado_data.iloc[i]['region']]['AveragePrice'].mean()"
   ]
  },
  {
   "cell_type": "code",
   "execution_count": 48,
   "metadata": {},
   "outputs": [
    {
     "data": {
      "text/plain": [
       "Date            0\n",
       "AveragePrice    0\n",
       "Total Volume    0\n",
       "4046            0\n",
       "4225            0\n",
       "4770            0\n",
       "Total Bags      0\n",
       "Small Bags      0\n",
       "Large Bags      0\n",
       "XLarge Bags     0\n",
       "type            0\n",
       "year            0\n",
       "region          0\n",
       "dtype: int64"
      ]
     },
     "execution_count": 48,
     "metadata": {},
     "output_type": "execute_result"
    }
   ],
   "source": [
    "Avacado_data.isnull().sum()"
   ]
  },
  {
   "cell_type": "code",
   "execution_count": 51,
   "metadata": {},
   "outputs": [],
   "source": [
    "Discrete_Date = []\n",
    "for i in range(len(Avacado_data)):\n",
    "    Year = Avacado_data.iloc[i,0][6:]\n",
    "    if(int(Year)<=2016):\n",
    "        Discrete_Date.append('Old')\n",
    "    elif(int(Year)==2017):\n",
    "        Discrete_Date.append('New')\n",
    "    elif(int(Year)==2018):\n",
    "        Discrete_Date.append('Recent')\n",
    "    else:\n",
    "        Discrete_Date.append(np.nan)"
   ]
  },
  {
   "cell_type": "code",
   "execution_count": 52,
   "metadata": {},
   "outputs": [],
   "source": [
    "Avacado_data = Avacado_data.drop(['Date'],axis=1)        \n",
    "Avacado_data.insert(0,\"Date\",Discrete_Date)"
   ]
  },
  {
   "cell_type": "code",
   "execution_count": 53,
   "metadata": {},
   "outputs": [
    {
     "data": {
      "text/html": [
       "<div>\n",
       "<style scoped>\n",
       "    .dataframe tbody tr th:only-of-type {\n",
       "        vertical-align: middle;\n",
       "    }\n",
       "\n",
       "    .dataframe tbody tr th {\n",
       "        vertical-align: top;\n",
       "    }\n",
       "\n",
       "    .dataframe thead th {\n",
       "        text-align: right;\n",
       "    }\n",
       "</style>\n",
       "<table border=\"1\" class=\"dataframe\">\n",
       "  <thead>\n",
       "    <tr style=\"text-align: right;\">\n",
       "      <th></th>\n",
       "      <th>Date</th>\n",
       "      <th>AveragePrice</th>\n",
       "      <th>Total Volume</th>\n",
       "      <th>4046</th>\n",
       "      <th>4225</th>\n",
       "      <th>4770</th>\n",
       "      <th>Total Bags</th>\n",
       "      <th>Small Bags</th>\n",
       "      <th>Large Bags</th>\n",
       "      <th>XLarge Bags</th>\n",
       "      <th>type</th>\n",
       "      <th>year</th>\n",
       "      <th>region</th>\n",
       "    </tr>\n",
       "  </thead>\n",
       "  <tbody>\n",
       "    <tr>\n",
       "      <th>0</th>\n",
       "      <td>Old</td>\n",
       "      <td>1.33</td>\n",
       "      <td>64236.62</td>\n",
       "      <td>1036.74</td>\n",
       "      <td>54454.85</td>\n",
       "      <td>48.16</td>\n",
       "      <td>8696.87</td>\n",
       "      <td>8603.62</td>\n",
       "      <td>93.25</td>\n",
       "      <td>0.0</td>\n",
       "      <td>conventional</td>\n",
       "      <td>2015</td>\n",
       "      <td>Albany</td>\n",
       "    </tr>\n",
       "    <tr>\n",
       "      <th>1</th>\n",
       "      <td>Old</td>\n",
       "      <td>1.35</td>\n",
       "      <td>54876.98</td>\n",
       "      <td>674.28</td>\n",
       "      <td>44638.81</td>\n",
       "      <td>58.33</td>\n",
       "      <td>9505.56</td>\n",
       "      <td>9408.07</td>\n",
       "      <td>97.49</td>\n",
       "      <td>0.0</td>\n",
       "      <td>conventional</td>\n",
       "      <td>2015</td>\n",
       "      <td>Albany</td>\n",
       "    </tr>\n",
       "    <tr>\n",
       "      <th>2</th>\n",
       "      <td>Old</td>\n",
       "      <td>0.93</td>\n",
       "      <td>118220.22</td>\n",
       "      <td>794.70</td>\n",
       "      <td>109149.67</td>\n",
       "      <td>130.50</td>\n",
       "      <td>8145.35</td>\n",
       "      <td>8042.21</td>\n",
       "      <td>103.14</td>\n",
       "      <td>0.0</td>\n",
       "      <td>conventional</td>\n",
       "      <td>2015</td>\n",
       "      <td>Albany</td>\n",
       "    </tr>\n",
       "    <tr>\n",
       "      <th>3</th>\n",
       "      <td>Old</td>\n",
       "      <td>1.08</td>\n",
       "      <td>78992.15</td>\n",
       "      <td>1132.00</td>\n",
       "      <td>71976.41</td>\n",
       "      <td>72.58</td>\n",
       "      <td>5811.16</td>\n",
       "      <td>5677.40</td>\n",
       "      <td>133.76</td>\n",
       "      <td>0.0</td>\n",
       "      <td>conventional</td>\n",
       "      <td>2015</td>\n",
       "      <td>Albany</td>\n",
       "    </tr>\n",
       "    <tr>\n",
       "      <th>4</th>\n",
       "      <td>Old</td>\n",
       "      <td>1.29</td>\n",
       "      <td>51039.60</td>\n",
       "      <td>941.48</td>\n",
       "      <td>43838.39</td>\n",
       "      <td>75.78</td>\n",
       "      <td>6183.95</td>\n",
       "      <td>5986.26</td>\n",
       "      <td>197.69</td>\n",
       "      <td>0.0</td>\n",
       "      <td>conventional</td>\n",
       "      <td>2015</td>\n",
       "      <td>Albany</td>\n",
       "    </tr>\n",
       "    <tr>\n",
       "      <th>...</th>\n",
       "      <td>...</td>\n",
       "      <td>...</td>\n",
       "      <td>...</td>\n",
       "      <td>...</td>\n",
       "      <td>...</td>\n",
       "      <td>...</td>\n",
       "      <td>...</td>\n",
       "      <td>...</td>\n",
       "      <td>...</td>\n",
       "      <td>...</td>\n",
       "      <td>...</td>\n",
       "      <td>...</td>\n",
       "      <td>...</td>\n",
       "    </tr>\n",
       "    <tr>\n",
       "      <th>18245</th>\n",
       "      <td>Recent</td>\n",
       "      <td>1.71</td>\n",
       "      <td>13888.04</td>\n",
       "      <td>1191.70</td>\n",
       "      <td>3431.50</td>\n",
       "      <td>0.00</td>\n",
       "      <td>9264.84</td>\n",
       "      <td>8940.04</td>\n",
       "      <td>324.80</td>\n",
       "      <td>0.0</td>\n",
       "      <td>organic</td>\n",
       "      <td>2018</td>\n",
       "      <td>WestTexNewMexico</td>\n",
       "    </tr>\n",
       "    <tr>\n",
       "      <th>18246</th>\n",
       "      <td>Recent</td>\n",
       "      <td>1.87</td>\n",
       "      <td>13766.76</td>\n",
       "      <td>1191.92</td>\n",
       "      <td>2452.79</td>\n",
       "      <td>727.94</td>\n",
       "      <td>9394.11</td>\n",
       "      <td>9351.80</td>\n",
       "      <td>42.31</td>\n",
       "      <td>0.0</td>\n",
       "      <td>organic</td>\n",
       "      <td>2018</td>\n",
       "      <td>WestTexNewMexico</td>\n",
       "    </tr>\n",
       "    <tr>\n",
       "      <th>18247</th>\n",
       "      <td>Recent</td>\n",
       "      <td>1.93</td>\n",
       "      <td>16205.22</td>\n",
       "      <td>1527.63</td>\n",
       "      <td>2981.04</td>\n",
       "      <td>727.01</td>\n",
       "      <td>10969.54</td>\n",
       "      <td>10919.54</td>\n",
       "      <td>50.00</td>\n",
       "      <td>0.0</td>\n",
       "      <td>organic</td>\n",
       "      <td>2018</td>\n",
       "      <td>WestTexNewMexico</td>\n",
       "    </tr>\n",
       "    <tr>\n",
       "      <th>18248</th>\n",
       "      <td>Recent</td>\n",
       "      <td>1.62</td>\n",
       "      <td>17489.58</td>\n",
       "      <td>2894.77</td>\n",
       "      <td>2356.13</td>\n",
       "      <td>224.53</td>\n",
       "      <td>12014.15</td>\n",
       "      <td>11988.14</td>\n",
       "      <td>26.01</td>\n",
       "      <td>0.0</td>\n",
       "      <td>organic</td>\n",
       "      <td>2018</td>\n",
       "      <td>WestTexNewMexico</td>\n",
       "    </tr>\n",
       "    <tr>\n",
       "      <th>18249</th>\n",
       "      <td>Recent</td>\n",
       "      <td>1.56</td>\n",
       "      <td>15896.38</td>\n",
       "      <td>2055.35</td>\n",
       "      <td>1499.55</td>\n",
       "      <td>0.00</td>\n",
       "      <td>12341.48</td>\n",
       "      <td>12114.81</td>\n",
       "      <td>226.67</td>\n",
       "      <td>0.0</td>\n",
       "      <td>organic</td>\n",
       "      <td>2018</td>\n",
       "      <td>WestTexNewMexico</td>\n",
       "    </tr>\n",
       "  </tbody>\n",
       "</table>\n",
       "<p>18250 rows × 13 columns</p>\n",
       "</div>"
      ],
      "text/plain": [
       "         Date  AveragePrice  Total Volume     4046       4225    4770  \\\n",
       "0         Old          1.33      64236.62  1036.74   54454.85   48.16   \n",
       "1         Old          1.35      54876.98   674.28   44638.81   58.33   \n",
       "2         Old          0.93     118220.22   794.70  109149.67  130.50   \n",
       "3         Old          1.08      78992.15  1132.00   71976.41   72.58   \n",
       "4         Old          1.29      51039.60   941.48   43838.39   75.78   \n",
       "...       ...           ...           ...      ...        ...     ...   \n",
       "18245  Recent          1.71      13888.04  1191.70    3431.50    0.00   \n",
       "18246  Recent          1.87      13766.76  1191.92    2452.79  727.94   \n",
       "18247  Recent          1.93      16205.22  1527.63    2981.04  727.01   \n",
       "18248  Recent          1.62      17489.58  2894.77    2356.13  224.53   \n",
       "18249  Recent          1.56      15896.38  2055.35    1499.55    0.00   \n",
       "\n",
       "       Total Bags  Small Bags  Large Bags  XLarge Bags          type  year  \\\n",
       "0         8696.87     8603.62       93.25          0.0  conventional  2015   \n",
       "1         9505.56     9408.07       97.49          0.0  conventional  2015   \n",
       "2         8145.35     8042.21      103.14          0.0  conventional  2015   \n",
       "3         5811.16     5677.40      133.76          0.0  conventional  2015   \n",
       "4         6183.95     5986.26      197.69          0.0  conventional  2015   \n",
       "...           ...         ...         ...          ...           ...   ...   \n",
       "18245     9264.84     8940.04      324.80          0.0       organic  2018   \n",
       "18246     9394.11     9351.80       42.31          0.0       organic  2018   \n",
       "18247    10969.54    10919.54       50.00          0.0       organic  2018   \n",
       "18248    12014.15    11988.14       26.01          0.0       organic  2018   \n",
       "18249    12341.48    12114.81      226.67          0.0       organic  2018   \n",
       "\n",
       "                 region  \n",
       "0                Albany  \n",
       "1                Albany  \n",
       "2                Albany  \n",
       "3                Albany  \n",
       "4                Albany  \n",
       "...                 ...  \n",
       "18245  WestTexNewMexico  \n",
       "18246  WestTexNewMexico  \n",
       "18247  WestTexNewMexico  \n",
       "18248  WestTexNewMexico  \n",
       "18249  WestTexNewMexico  \n",
       "\n",
       "[18250 rows x 13 columns]"
      ]
     },
     "execution_count": 53,
     "metadata": {},
     "output_type": "execute_result"
    }
   ],
   "source": [
    "Avacado_data"
   ]
  }
 ],
 "metadata": {
  "interpreter": {
   "hash": "c0f70214c0dd213f07f54ee5d6e0ea644bdbba35113c9bfe8aaa0d1db03ad5dd"
  },
  "kernelspec": {
   "display_name": "Python 3.8.8 ('base')",
   "language": "python",
   "name": "python3"
  },
  "language_info": {
   "codemirror_mode": {
    "name": "ipython",
    "version": 3
   },
   "file_extension": ".py",
   "mimetype": "text/x-python",
   "name": "python",
   "nbconvert_exporter": "python",
   "pygments_lexer": "ipython3",
   "version": "3.8.8"
  },
  "orig_nbformat": 4
 },
 "nbformat": 4,
 "nbformat_minor": 2
}
