{
 "cells": [
  {
   "cell_type": "markdown",
   "metadata": {},
   "source": [
    "PROBLEM SET 3, MRIDUL HARISH, CED18I034\n",
    "\n",
    "Question 1 - Suppose that the data for analysis includes the attribute age. The age values for the data\n",
    "tuples are (in increasing order) 13, 15, 16, 16, 19, 20, 20, 21, 22, 22, 25, 25, 25, 25, 30, 33,\n",
    "33, 35, 35, 35, 35, 36, 40, 45, 46, 52, 70.\n",
    "\n",
    "(a) Use min-max normalization to transform the values of age to the range [0:1].\n",
    "\n",
    "(b) Use z-score normalization to transform the values of age.\n",
    "\n",
    "(c) Use normalization by decimal scaling to transform the values of age such that the transformed value\n",
    "is less than 1."
   ]
  },
  {
   "cell_type": "code",
   "execution_count": 1,
   "metadata": {},
   "outputs": [],
   "source": [
    "import pandas as pd\n",
    "import numpy as np\n",
    "import random\n",
    "import matplotlib.pyplot as plt"
   ]
  },
  {
   "cell_type": "code",
   "execution_count": 4,
   "metadata": {},
   "outputs": [],
   "source": [
    "Age = np.array([13, 15, 16, 16, 19, 20, 20, 21, 22, 22, 25, 25, 25, 25, 30, 33, 33, 35, 35, 35, 35, 36, 40, 45, 46, 52, 70])"
   ]
  },
  {
   "cell_type": "markdown",
   "metadata": {},
   "source": [
    "(i) Min-Max"
   ]
  },
  {
   "cell_type": "code",
   "execution_count": 5,
   "metadata": {},
   "outputs": [],
   "source": [
    "Age_min = min(Age)\n",
    "Age_max = max(Age)\n",
    "Age_min_max = [(i - Age_min)/(Age_max - Age_min) for i in Age]"
   ]
  },
  {
   "cell_type": "code",
   "execution_count": 6,
   "metadata": {},
   "outputs": [
    {
     "data": {
      "text/plain": [
       "13"
      ]
     },
     "execution_count": 6,
     "metadata": {},
     "output_type": "execute_result"
    }
   ],
   "source": [
    "Age_min"
   ]
  },
  {
   "cell_type": "code",
   "execution_count": 7,
   "metadata": {},
   "outputs": [
    {
     "data": {
      "text/plain": [
       "70"
      ]
     },
     "execution_count": 7,
     "metadata": {},
     "output_type": "execute_result"
    }
   ],
   "source": [
    "Age_max"
   ]
  },
  {
   "cell_type": "code",
   "execution_count": 12,
   "metadata": {},
   "outputs": [
    {
     "data": {
      "text/plain": [
       "[0.0,\n",
       " 0.03508771929824561,\n",
       " 0.05263157894736842,\n",
       " 0.05263157894736842,\n",
       " 0.10526315789473684,\n",
       " 0.12280701754385964,\n",
       " 0.12280701754385964,\n",
       " 0.14035087719298245,\n",
       " 0.15789473684210525,\n",
       " 0.15789473684210525,\n",
       " 0.21052631578947367,\n",
       " 0.21052631578947367,\n",
       " 0.21052631578947367,\n",
       " 0.21052631578947367,\n",
       " 0.2982456140350877,\n",
       " 0.3508771929824561,\n",
       " 0.3508771929824561,\n",
       " 0.38596491228070173,\n",
       " 0.38596491228070173,\n",
       " 0.38596491228070173,\n",
       " 0.38596491228070173,\n",
       " 0.40350877192982454,\n",
       " 0.47368421052631576,\n",
       " 0.5614035087719298,\n",
       " 0.5789473684210527,\n",
       " 0.6842105263157895,\n",
       " 1.0]"
      ]
     },
     "execution_count": 12,
     "metadata": {},
     "output_type": "execute_result"
    }
   ],
   "source": [
    "Age_min_max"
   ]
  },
  {
   "cell_type": "code",
   "execution_count": 8,
   "metadata": {},
   "outputs": [],
   "source": [
    "Age_mean = np.mean(Age)\n",
    "Age_std = np.std(Age)"
   ]
  },
  {
   "cell_type": "markdown",
   "metadata": {},
   "source": [
    "(ii)Z score"
   ]
  },
  {
   "cell_type": "code",
   "execution_count": 9,
   "metadata": {},
   "outputs": [
    {
     "data": {
      "text/plain": [
       "29.962962962962962"
      ]
     },
     "execution_count": 9,
     "metadata": {},
     "output_type": "execute_result"
    }
   ],
   "source": [
    "Age_mean"
   ]
  },
  {
   "cell_type": "code",
   "execution_count": 10,
   "metadata": {},
   "outputs": [
    {
     "data": {
      "text/plain": [
       "12.700193878606099"
      ]
     },
     "execution_count": 10,
     "metadata": {},
     "output_type": "execute_result"
    }
   ],
   "source": [
    "Age_std"
   ]
  },
  {
   "cell_type": "code",
   "execution_count": 11,
   "metadata": {},
   "outputs": [],
   "source": [
    "Age_Zscore = [(i - Age_mean)/Age_std for i in Age]"
   ]
  },
  {
   "cell_type": "code",
   "execution_count": 13,
   "metadata": {},
   "outputs": [
    {
     "data": {
      "text/plain": [
       "[-1.3356459850221374,\n",
       " -1.1781680741243308,\n",
       " -1.0994291186754275,\n",
       " -1.0994291186754275,\n",
       " -0.8632122523287176,\n",
       " -0.7844732968798143,\n",
       " -0.7844732968798143,\n",
       " -0.705734341430911,\n",
       " -0.6269953859820077,\n",
       " -0.6269953859820077,\n",
       " -0.39077851963529775,\n",
       " -0.39077851963529775,\n",
       " -0.39077851963529775,\n",
       " -0.39077851963529775,\n",
       " 0.0029162576092187234,\n",
       " 0.23913312395592862,\n",
       " 0.23913312395592862,\n",
       " 0.3966110348537352,\n",
       " 0.3966110348537352,\n",
       " 0.3966110348537352,\n",
       " 0.3966110348537352,\n",
       " 0.4753499903026385,\n",
       " 0.7903058120982517,\n",
       " 1.1840005893427683,\n",
       " 1.2627395447916716,\n",
       " 1.7351732774850914,\n",
       " 3.152474475565351]"
      ]
     },
     "execution_count": 13,
     "metadata": {},
     "output_type": "execute_result"
    }
   ],
   "source": [
    "Age_Zscore"
   ]
  },
  {
   "cell_type": "markdown",
   "metadata": {},
   "source": [
    "We can see that here that the dataset has at max 2 digit numbers, we can easily realize that j = 2"
   ]
  },
  {
   "cell_type": "code",
   "execution_count": 14,
   "metadata": {},
   "outputs": [],
   "source": [
    "Age_decimalscale = [i/100 for i in Age]"
   ]
  },
  {
   "cell_type": "code",
   "execution_count": 16,
   "metadata": {},
   "outputs": [
    {
     "data": {
      "text/plain": [
       "[0.13,\n",
       " 0.15,\n",
       " 0.16,\n",
       " 0.16,\n",
       " 0.19,\n",
       " 0.2,\n",
       " 0.2,\n",
       " 0.21,\n",
       " 0.22,\n",
       " 0.22,\n",
       " 0.25,\n",
       " 0.25,\n",
       " 0.25,\n",
       " 0.25,\n",
       " 0.3,\n",
       " 0.33,\n",
       " 0.33,\n",
       " 0.35,\n",
       " 0.35,\n",
       " 0.35,\n",
       " 0.35,\n",
       " 0.36,\n",
       " 0.4,\n",
       " 0.45,\n",
       " 0.46,\n",
       " 0.52,\n",
       " 0.7]"
      ]
     },
     "execution_count": 16,
     "metadata": {},
     "output_type": "execute_result"
    }
   ],
   "source": [
    "Age_decimalscale"
   ]
  },
  {
   "cell_type": "code",
   "execution_count": 18,
   "metadata": {},
   "outputs": [],
   "source": [
    "Output = pd.DataFrame({\"Age\":Age, \"Min-Max\":Age_min_max, \"Z-score\":Age_Zscore, \"Decimal Scale\":Age_decimalscale})"
   ]
  },
  {
   "cell_type": "code",
   "execution_count": 19,
   "metadata": {},
   "outputs": [
    {
     "data": {
      "text/html": [
       "<div>\n",
       "<style scoped>\n",
       "    .dataframe tbody tr th:only-of-type {\n",
       "        vertical-align: middle;\n",
       "    }\n",
       "\n",
       "    .dataframe tbody tr th {\n",
       "        vertical-align: top;\n",
       "    }\n",
       "\n",
       "    .dataframe thead th {\n",
       "        text-align: right;\n",
       "    }\n",
       "</style>\n",
       "<table border=\"1\" class=\"dataframe\">\n",
       "  <thead>\n",
       "    <tr style=\"text-align: right;\">\n",
       "      <th></th>\n",
       "      <th>Age</th>\n",
       "      <th>Min-Max</th>\n",
       "      <th>Z-score</th>\n",
       "      <th>Decimal Scale</th>\n",
       "    </tr>\n",
       "  </thead>\n",
       "  <tbody>\n",
       "    <tr>\n",
       "      <th>0</th>\n",
       "      <td>13</td>\n",
       "      <td>0.000000</td>\n",
       "      <td>-1.335646</td>\n",
       "      <td>0.13</td>\n",
       "    </tr>\n",
       "    <tr>\n",
       "      <th>1</th>\n",
       "      <td>15</td>\n",
       "      <td>0.035088</td>\n",
       "      <td>-1.178168</td>\n",
       "      <td>0.15</td>\n",
       "    </tr>\n",
       "    <tr>\n",
       "      <th>2</th>\n",
       "      <td>16</td>\n",
       "      <td>0.052632</td>\n",
       "      <td>-1.099429</td>\n",
       "      <td>0.16</td>\n",
       "    </tr>\n",
       "    <tr>\n",
       "      <th>3</th>\n",
       "      <td>16</td>\n",
       "      <td>0.052632</td>\n",
       "      <td>-1.099429</td>\n",
       "      <td>0.16</td>\n",
       "    </tr>\n",
       "    <tr>\n",
       "      <th>4</th>\n",
       "      <td>19</td>\n",
       "      <td>0.105263</td>\n",
       "      <td>-0.863212</td>\n",
       "      <td>0.19</td>\n",
       "    </tr>\n",
       "    <tr>\n",
       "      <th>5</th>\n",
       "      <td>20</td>\n",
       "      <td>0.122807</td>\n",
       "      <td>-0.784473</td>\n",
       "      <td>0.20</td>\n",
       "    </tr>\n",
       "    <tr>\n",
       "      <th>6</th>\n",
       "      <td>20</td>\n",
       "      <td>0.122807</td>\n",
       "      <td>-0.784473</td>\n",
       "      <td>0.20</td>\n",
       "    </tr>\n",
       "    <tr>\n",
       "      <th>7</th>\n",
       "      <td>21</td>\n",
       "      <td>0.140351</td>\n",
       "      <td>-0.705734</td>\n",
       "      <td>0.21</td>\n",
       "    </tr>\n",
       "    <tr>\n",
       "      <th>8</th>\n",
       "      <td>22</td>\n",
       "      <td>0.157895</td>\n",
       "      <td>-0.626995</td>\n",
       "      <td>0.22</td>\n",
       "    </tr>\n",
       "    <tr>\n",
       "      <th>9</th>\n",
       "      <td>22</td>\n",
       "      <td>0.157895</td>\n",
       "      <td>-0.626995</td>\n",
       "      <td>0.22</td>\n",
       "    </tr>\n",
       "    <tr>\n",
       "      <th>10</th>\n",
       "      <td>25</td>\n",
       "      <td>0.210526</td>\n",
       "      <td>-0.390779</td>\n",
       "      <td>0.25</td>\n",
       "    </tr>\n",
       "    <tr>\n",
       "      <th>11</th>\n",
       "      <td>25</td>\n",
       "      <td>0.210526</td>\n",
       "      <td>-0.390779</td>\n",
       "      <td>0.25</td>\n",
       "    </tr>\n",
       "    <tr>\n",
       "      <th>12</th>\n",
       "      <td>25</td>\n",
       "      <td>0.210526</td>\n",
       "      <td>-0.390779</td>\n",
       "      <td>0.25</td>\n",
       "    </tr>\n",
       "    <tr>\n",
       "      <th>13</th>\n",
       "      <td>25</td>\n",
       "      <td>0.210526</td>\n",
       "      <td>-0.390779</td>\n",
       "      <td>0.25</td>\n",
       "    </tr>\n",
       "    <tr>\n",
       "      <th>14</th>\n",
       "      <td>30</td>\n",
       "      <td>0.298246</td>\n",
       "      <td>0.002916</td>\n",
       "      <td>0.30</td>\n",
       "    </tr>\n",
       "    <tr>\n",
       "      <th>15</th>\n",
       "      <td>33</td>\n",
       "      <td>0.350877</td>\n",
       "      <td>0.239133</td>\n",
       "      <td>0.33</td>\n",
       "    </tr>\n",
       "    <tr>\n",
       "      <th>16</th>\n",
       "      <td>33</td>\n",
       "      <td>0.350877</td>\n",
       "      <td>0.239133</td>\n",
       "      <td>0.33</td>\n",
       "    </tr>\n",
       "    <tr>\n",
       "      <th>17</th>\n",
       "      <td>35</td>\n",
       "      <td>0.385965</td>\n",
       "      <td>0.396611</td>\n",
       "      <td>0.35</td>\n",
       "    </tr>\n",
       "    <tr>\n",
       "      <th>18</th>\n",
       "      <td>35</td>\n",
       "      <td>0.385965</td>\n",
       "      <td>0.396611</td>\n",
       "      <td>0.35</td>\n",
       "    </tr>\n",
       "    <tr>\n",
       "      <th>19</th>\n",
       "      <td>35</td>\n",
       "      <td>0.385965</td>\n",
       "      <td>0.396611</td>\n",
       "      <td>0.35</td>\n",
       "    </tr>\n",
       "    <tr>\n",
       "      <th>20</th>\n",
       "      <td>35</td>\n",
       "      <td>0.385965</td>\n",
       "      <td>0.396611</td>\n",
       "      <td>0.35</td>\n",
       "    </tr>\n",
       "    <tr>\n",
       "      <th>21</th>\n",
       "      <td>36</td>\n",
       "      <td>0.403509</td>\n",
       "      <td>0.475350</td>\n",
       "      <td>0.36</td>\n",
       "    </tr>\n",
       "    <tr>\n",
       "      <th>22</th>\n",
       "      <td>40</td>\n",
       "      <td>0.473684</td>\n",
       "      <td>0.790306</td>\n",
       "      <td>0.40</td>\n",
       "    </tr>\n",
       "    <tr>\n",
       "      <th>23</th>\n",
       "      <td>45</td>\n",
       "      <td>0.561404</td>\n",
       "      <td>1.184001</td>\n",
       "      <td>0.45</td>\n",
       "    </tr>\n",
       "    <tr>\n",
       "      <th>24</th>\n",
       "      <td>46</td>\n",
       "      <td>0.578947</td>\n",
       "      <td>1.262740</td>\n",
       "      <td>0.46</td>\n",
       "    </tr>\n",
       "    <tr>\n",
       "      <th>25</th>\n",
       "      <td>52</td>\n",
       "      <td>0.684211</td>\n",
       "      <td>1.735173</td>\n",
       "      <td>0.52</td>\n",
       "    </tr>\n",
       "    <tr>\n",
       "      <th>26</th>\n",
       "      <td>70</td>\n",
       "      <td>1.000000</td>\n",
       "      <td>3.152474</td>\n",
       "      <td>0.70</td>\n",
       "    </tr>\n",
       "  </tbody>\n",
       "</table>\n",
       "</div>"
      ],
      "text/plain": [
       "    Age   Min-Max   Z-score  Decimal Scale\n",
       "0    13  0.000000 -1.335646           0.13\n",
       "1    15  0.035088 -1.178168           0.15\n",
       "2    16  0.052632 -1.099429           0.16\n",
       "3    16  0.052632 -1.099429           0.16\n",
       "4    19  0.105263 -0.863212           0.19\n",
       "5    20  0.122807 -0.784473           0.20\n",
       "6    20  0.122807 -0.784473           0.20\n",
       "7    21  0.140351 -0.705734           0.21\n",
       "8    22  0.157895 -0.626995           0.22\n",
       "9    22  0.157895 -0.626995           0.22\n",
       "10   25  0.210526 -0.390779           0.25\n",
       "11   25  0.210526 -0.390779           0.25\n",
       "12   25  0.210526 -0.390779           0.25\n",
       "13   25  0.210526 -0.390779           0.25\n",
       "14   30  0.298246  0.002916           0.30\n",
       "15   33  0.350877  0.239133           0.33\n",
       "16   33  0.350877  0.239133           0.33\n",
       "17   35  0.385965  0.396611           0.35\n",
       "18   35  0.385965  0.396611           0.35\n",
       "19   35  0.385965  0.396611           0.35\n",
       "20   35  0.385965  0.396611           0.35\n",
       "21   36  0.403509  0.475350           0.36\n",
       "22   40  0.473684  0.790306           0.40\n",
       "23   45  0.561404  1.184001           0.45\n",
       "24   46  0.578947  1.262740           0.46\n",
       "25   52  0.684211  1.735173           0.52\n",
       "26   70  1.000000  3.152474           0.70"
      ]
     },
     "metadata": {},
     "output_type": "display_data"
    }
   ],
   "source": [
    "display(Output)"
   ]
  }
 ],
 "metadata": {
  "interpreter": {
   "hash": "c0f70214c0dd213f07f54ee5d6e0ea644bdbba35113c9bfe8aaa0d1db03ad5dd"
  },
  "kernelspec": {
   "display_name": "Python 3.8.8 ('base')",
   "language": "python",
   "name": "python3"
  },
  "language_info": {
   "codemirror_mode": {
    "name": "ipython",
    "version": 3
   },
   "file_extension": ".py",
   "mimetype": "text/x-python",
   "name": "python",
   "nbconvert_exporter": "python",
   "pygments_lexer": "ipython3",
   "version": "3.8.8"
  },
  "orig_nbformat": 4
 },
 "nbformat": 4,
 "nbformat_minor": 2
}
