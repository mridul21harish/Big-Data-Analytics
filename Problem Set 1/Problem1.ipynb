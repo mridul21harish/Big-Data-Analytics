{
 "cells": [
  {
   "cell_type": "markdown",
   "metadata": {},
   "source": [
    "PROBLEM SET 1\n",
    "MRIDUL HARISH, CED18I034\n",
    "\n",
    "\n",
    "Question 1 - Given the following setup {Class, Tally score, Frequency}, develop an application that generates\n",
    "the table shown; (you can populate the relevant data; minimum data size :50 records). The table\n",
    "is only\n",
    "an illustration for a data of color scores, you are free to test the application over any data\n",
    "set with the\n",
    "application generating the tally and frequency scores."
   ]
  },
  {
   "cell_type": "code",
   "execution_count": 1,
   "metadata": {},
   "outputs": [],
   "source": [
    "from random import randint\n",
    "import collections"
   ]
  },
  {
   "cell_type": "code",
   "execution_count": 15,
   "metadata": {},
   "outputs": [],
   "source": [
    "def generate_data():\n",
    "    return[randint(1,10) for i in range(randint(100,200))]"
   ]
  },
  {
   "cell_type": "code",
   "execution_count": 16,
   "metadata": {},
   "outputs": [],
   "source": [
    "data = generate_data()\n",
    "counter = dict(sorted(collections.Counter(data).items()))"
   ]
  },
  {
   "cell_type": "code",
   "execution_count": 17,
   "metadata": {},
   "outputs": [
    {
     "data": {
      "text/plain": [
       "{1: 15, 2: 9, 3: 20, 4: 18, 5: 12, 6: 17, 7: 17, 8: 13, 9: 5, 10: 14}"
      ]
     },
     "execution_count": 17,
     "metadata": {},
     "output_type": "execute_result"
    }
   ],
   "source": [
    "counter"
   ]
  },
  {
   "cell_type": "code",
   "execution_count": 18,
   "metadata": {},
   "outputs": [
    {
     "name": "stdout",
     "output_type": "stream",
     "text": [
      "Score   Tally                          Frequency\n",
      "1       ||||\\ ||||\\ ||||\\              15     \n",
      "2       ||||\\ ||||                     9      \n",
      "3       ||||\\ ||||\\ ||||\\ ||||\\        20     \n",
      "4       ||||\\ ||||\\ ||||\\ |||          18     \n",
      "5       ||||\\ ||||\\ ||                 12     \n",
      "6       ||||\\ ||||\\ ||||\\ ||           17     \n",
      "7       ||||\\ ||||\\ ||||\\ ||           17     \n",
      "8       ||||\\ ||||\\ |||                13     \n",
      "9       ||||\\                          5      \n",
      "10      ||||\\ ||||\\ ||||               14     \n"
     ]
    }
   ],
   "source": [
    "print(\"{:<7} {:<30} {:<7}\".format('Score', 'Tally', 'Frequency'))\n",
    "\n",
    "for key, value in counter.items():\n",
    "    tally = \"\".join(\"|\" if i % 5 != 4 else \"\\ \" for i in range(value))\n",
    "    print(\"{:<7} {:<30} {:<7}\".format(key, tally, value))"
   ]
  }
 ],
 "metadata": {
  "interpreter": {
   "hash": "c0f70214c0dd213f07f54ee5d6e0ea644bdbba35113c9bfe8aaa0d1db03ad5dd"
  },
  "kernelspec": {
   "display_name": "Python 3.8.8 64-bit ('base': conda)",
   "language": "python",
   "name": "python3"
  },
  "language_info": {
   "codemirror_mode": {
    "name": "ipython",
    "version": 3
   },
   "file_extension": ".py",
   "mimetype": "text/x-python",
   "name": "python",
   "nbconvert_exporter": "python",
   "pygments_lexer": "ipython3",
   "version": "3.8.8"
  },
  "orig_nbformat": 4
 },
 "nbformat": 4,
 "nbformat_minor": 2
}
