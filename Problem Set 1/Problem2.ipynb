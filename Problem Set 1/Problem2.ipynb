{
 "cells": [
  {
   "cell_type": "markdown",
   "metadata": {},
   "source": [
    "Question 2 - In a class of 18 students, assume marks distribution in an exam are as follows. Let the roll\n",
    "numbers start with CSE20D01 and all the odd roll numbers secure marks as follows: 25+\n",
    "((i+7)%10) and even roll numbers : 25+((i+8)%10). Develop an application that sets up the data\n",
    "and calculate the mean and median for the marks obtained using the platform support."
   ]
  },
  {
   "cell_type": "code",
   "execution_count": 1,
   "metadata": {},
   "outputs": [],
   "source": [
    "import numpy as np"
   ]
  },
  {
   "cell_type": "code",
   "execution_count": 18,
   "metadata": {},
   "outputs": [],
   "source": [
    "def generate_marks(n):\n",
    "    marks = {}\n",
    "    for i in range(1, n+1):\n",
    "        marks[f\"CSE20D{i:02d}\"] = 25+(i+8)%10 if i % 2 == 0 else 25+(i+7)%10\n",
    "    return marks"
   ]
  },
  {
   "cell_type": "code",
   "execution_count": 19,
   "metadata": {},
   "outputs": [
    {
     "name": "stdout",
     "output_type": "stream",
     "text": [
      "Roll number Marks\n",
      "CSE20D01   33   \n",
      "CSE20D02   25   \n",
      "CSE20D03   25   \n",
      "CSE20D04   27   \n",
      "CSE20D05   27   \n",
      "CSE20D06   29   \n",
      "CSE20D07   29   \n",
      "CSE20D08   31   \n",
      "CSE20D09   31   \n",
      "CSE20D10   33   \n",
      "CSE20D11   33   \n",
      "CSE20D12   25   \n",
      "CSE20D13   25   \n",
      "CSE20D14   27   \n",
      "CSE20D15   27   \n",
      "CSE20D16   29   \n",
      "CSE20D17   29   \n",
      "CSE20D18   31   \n"
     ]
    }
   ],
   "source": [
    "data = generate_marks(18)\n",
    "\n",
    "print(\"{:<10} {:<5}\".format('Roll number', 'Marks'))\n",
    "\n",
    "for key, value in data.items():\n",
    "    print(\"{:<10} {:<5}\".format(key, value))"
   ]
  },
  {
   "cell_type": "code",
   "execution_count": 20,
   "metadata": {},
   "outputs": [
    {
     "name": "stdout",
     "output_type": "stream",
     "text": [
      "Mean of the marks = 28.666666666666668\n",
      "Median of the marks = 29.0\n"
     ]
    }
   ],
   "source": [
    "marks = [*data.values()]\n",
    "print(f\"Mean of the marks = {np.mean(marks)}\")\n",
    "print(f\"Median of the marks = {np.median(marks)}\")\n"
   ]
  }
 ],
 "metadata": {
  "interpreter": {
   "hash": "c0f70214c0dd213f07f54ee5d6e0ea644bdbba35113c9bfe8aaa0d1db03ad5dd"
  },
  "kernelspec": {
   "display_name": "Python 3.8.8 64-bit ('base': conda)",
   "language": "python",
   "name": "python3"
  },
  "language_info": {
   "codemirror_mode": {
    "name": "ipython",
    "version": 3
   },
   "file_extension": ".py",
   "mimetype": "text/x-python",
   "name": "python",
   "nbconvert_exporter": "python",
   "pygments_lexer": "ipython3",
   "version": "3.8.8"
  },
  "orig_nbformat": 4
 },
 "nbformat": 4,
 "nbformat_minor": 2
}
