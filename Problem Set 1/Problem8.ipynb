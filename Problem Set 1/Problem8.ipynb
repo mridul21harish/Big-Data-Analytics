{
 "cells": [
  {
   "cell_type": "markdown",
   "metadata": {},
   "source": [
    "Question 8 - Extend the application developed in (7) to support relative grading which uses the class average\n",
    "(mean) and standard deviation to compute the cutoffs for various grades as opposed to fixing\n",
    "them statically; you can refer the sample grader (excel sheet) attached to understand the\n",
    "formulas for fixing the cutoffs; the grader would involve, mean, standard deviation, max mark,\n",
    "passed students data mean, etc. Understand the excel grader thoroughly before you try\n",
    "mimicking such an application in your development platform.\n",
    "Formulas Required for Relative Grading:\n",
    "Passing Minimum: 50% of class average. (Minimum marks for passing)\n",
    "X= Passing Students’ Mean- Passing Minimum.\n",
    "S_cutoff = Max_Mark – 0.1 *(Max_Mark-Passing Students Mean)\n",
    "Y= S_cutoff – Passing Students Mean\n",
    "A_cutoff = Passing Students Mean + Y * (5/8)\n",
    "B_cutoff = Passing Students Mean + Y * (2/8)\n",
    "C_cutoff = Passing Students Mean - X * (2/8)\n",
    "D_cutoff = Passing Students Mean - X * (5/8)\n",
    "E_cutoff = Passing Minimum\n",
    "Maroon shows failure ( \" U grade \"); similar to a heatmap...cold to warm.\n",
    "The color scheme is automatic and the least grade ends up with red-maroon shade"
   ]
  },
  {
   "cell_type": "code",
   "execution_count": 1,
   "metadata": {},
   "outputs": [],
   "source": [
    "import random\n",
    "from random import randint\n",
    "import numpy as np\n",
    "import pandas as pd"
   ]
  },
  {
   "cell_type": "code",
   "execution_count": 2,
   "metadata": {},
   "outputs": [],
   "source": [
    "MidSem = [random.randint(0, 30) for i in range(20)]\n",
    "EndSem = [random.randint(0, 50) for i in range(20)]\n",
    "Assignments = [random.randint(0, 20) for i in range(20)]\n",
    "TotalMarks = np.array([MidSem[i] + EndSem[i] + Assignments[i] for i in range(20)])\n",
    "Grades = ['S', 'A', 'B', 'C', 'D', 'E', 'U']"
   ]
  },
  {
   "cell_type": "code",
   "execution_count": 3,
   "metadata": {},
   "outputs": [],
   "source": [
    "Mean = TotalMarks.mean()\n",
    "PassingMinimum = Mean/2\n",
    "PassingMarks = TotalMarks[TotalMarks > PassingMinimum]\n",
    "PassingMean = PassingMarks.mean()\n",
    "MaximumMarks = TotalMarks.max()"
   ]
  },
  {
   "cell_type": "code",
   "execution_count": 4,
   "metadata": {},
   "outputs": [
    {
     "data": {
      "text/plain": [
       "48.0"
      ]
     },
     "execution_count": 4,
     "metadata": {},
     "output_type": "execute_result"
    }
   ],
   "source": [
    "Mean"
   ]
  },
  {
   "cell_type": "code",
   "execution_count": 5,
   "metadata": {},
   "outputs": [
    {
     "data": {
      "text/plain": [
       "24.0"
      ]
     },
     "execution_count": 5,
     "metadata": {},
     "output_type": "execute_result"
    }
   ],
   "source": [
    "PassingMinimum"
   ]
  },
  {
   "cell_type": "code",
   "execution_count": 6,
   "metadata": {},
   "outputs": [
    {
     "data": {
      "text/plain": [
       "array([80, 67, 33, 42, 30, 42, 48, 59, 30, 53, 39, 82, 59, 32, 65, 67, 88])"
      ]
     },
     "execution_count": 6,
     "metadata": {},
     "output_type": "execute_result"
    }
   ],
   "source": [
    "PassingMarks"
   ]
  },
  {
   "cell_type": "code",
   "execution_count": 7,
   "metadata": {},
   "outputs": [
    {
     "data": {
      "text/plain": [
       "53.88235294117647"
      ]
     },
     "execution_count": 7,
     "metadata": {},
     "output_type": "execute_result"
    }
   ],
   "source": [
    "PassingMean"
   ]
  },
  {
   "cell_type": "code",
   "execution_count": 8,
   "metadata": {},
   "outputs": [
    {
     "data": {
      "text/plain": [
       "88"
      ]
     },
     "execution_count": 8,
     "metadata": {},
     "output_type": "execute_result"
    }
   ],
   "source": [
    "MaximumMarks"
   ]
  },
  {
   "cell_type": "code",
   "execution_count": 23,
   "metadata": {},
   "outputs": [],
   "source": [
    "X = PassingMean - PassingMinimum\n",
    "S_cutoff = MaximumMarks - 0.1*(MaximumMarks - PassingMean)\n",
    "Y = S_cutoff - PassingMean\n",
    "A_cutoff = PassingMean + Y*(5/8)\n",
    "B_cutoff = PassingMean + Y*(2/8)\n",
    "C_cutoff = PassingMean - X*(2/8)\n",
    "D_cutoff = PassingMean - X*(5/8)\n",
    "E_cutoff = PassingMinimum"
   ]
  },
  {
   "cell_type": "code",
   "execution_count": 24,
   "metadata": {},
   "outputs": [
    {
     "data": {
      "text/plain": [
       "84.58823529411765"
      ]
     },
     "execution_count": 24,
     "metadata": {},
     "output_type": "execute_result"
    }
   ],
   "source": [
    "S_cutoff"
   ]
  },
  {
   "cell_type": "code",
   "execution_count": 25,
   "metadata": {},
   "outputs": [
    {
     "data": {
      "text/plain": [
       "73.07352941176471"
      ]
     },
     "execution_count": 25,
     "metadata": {},
     "output_type": "execute_result"
    }
   ],
   "source": [
    "A_cutoff"
   ]
  },
  {
   "cell_type": "code",
   "execution_count": 26,
   "metadata": {},
   "outputs": [
    {
     "data": {
      "text/plain": [
       "61.55882352941177"
      ]
     },
     "execution_count": 26,
     "metadata": {},
     "output_type": "execute_result"
    }
   ],
   "source": [
    "B_cutoff"
   ]
  },
  {
   "cell_type": "code",
   "execution_count": 27,
   "metadata": {},
   "outputs": [
    {
     "data": {
      "text/plain": [
       "46.411764705882355"
      ]
     },
     "execution_count": 27,
     "metadata": {},
     "output_type": "execute_result"
    }
   ],
   "source": [
    "C_cutoff"
   ]
  },
  {
   "cell_type": "code",
   "execution_count": 28,
   "metadata": {},
   "outputs": [
    {
     "data": {
      "text/plain": [
       "35.205882352941174"
      ]
     },
     "execution_count": 28,
     "metadata": {},
     "output_type": "execute_result"
    }
   ],
   "source": [
    "D_cutoff"
   ]
  },
  {
   "cell_type": "code",
   "execution_count": 22,
   "metadata": {},
   "outputs": [
    {
     "data": {
      "text/plain": [
       "24.0"
      ]
     },
     "execution_count": 22,
     "metadata": {},
     "output_type": "execute_result"
    }
   ],
   "source": [
    "E_cutoff"
   ]
  },
  {
   "cell_type": "code",
   "execution_count": 30,
   "metadata": {},
   "outputs": [],
   "source": [
    "def RelativeGrading(TotalMarks):\n",
    "    if(TotalMarks >= S_cutoff):\n",
    "        return('S')\n",
    "    elif(TotalMarks >= A_cutoff):\n",
    "        return('A')\n",
    "    elif(TotalMarks >= B_cutoff):\n",
    "        return('B')\n",
    "    elif(TotalMarks >= C_cutoff):\n",
    "        return('C')\n",
    "    elif(TotalMarks >= D_cutoff):\n",
    "        return('D')\n",
    "    elif(TotalMarks >= E_cutoff):\n",
    "        return('E')\n",
    "    else:\n",
    "        return('U')\n",
    "\n",
    "Grade = []\n",
    "for i in range(20):\n",
    "    Grade.append(RelativeGrading(TotalMarks[i]))"
   ]
  },
  {
   "cell_type": "code",
   "execution_count": 31,
   "metadata": {},
   "outputs": [],
   "source": [
    "frequency = {}\n",
    "frequency['S'] = 0\n",
    "frequency['A'] = 0\n",
    "frequency['B'] = 0\n",
    "frequency['C'] = 0\n",
    "frequency['D'] = 0\n",
    "frequency['E'] = 0\n",
    "frequency['U'] = 0\n",
    "\n",
    "for i in Grade:\n",
    "    if i in Grades:\n",
    "        frequency[str(i)] += 1"
   ]
  },
  {
   "cell_type": "code",
   "execution_count": 32,
   "metadata": {},
   "outputs": [
    {
     "data": {
      "text/plain": [
       "{'S': 1, 'A': 2, 'B': 3, 'C': 4, 'D': 3, 'E': 4, 'U': 3}"
      ]
     },
     "execution_count": 32,
     "metadata": {},
     "output_type": "execute_result"
    }
   ],
   "source": [
    "frequency"
   ]
  },
  {
   "cell_type": "code",
   "execution_count": 33,
   "metadata": {},
   "outputs": [
    {
     "data": {
      "text/html": [
       "<div>\n",
       "<style scoped>\n",
       "    .dataframe tbody tr th:only-of-type {\n",
       "        vertical-align: middle;\n",
       "    }\n",
       "\n",
       "    .dataframe tbody tr th {\n",
       "        vertical-align: top;\n",
       "    }\n",
       "\n",
       "    .dataframe thead th {\n",
       "        text-align: right;\n",
       "    }\n",
       "</style>\n",
       "<table border=\"1\" class=\"dataframe\">\n",
       "  <thead>\n",
       "    <tr style=\"text-align: right;\">\n",
       "      <th></th>\n",
       "      <th>Grade</th>\n",
       "      <th>Frequency</th>\n",
       "    </tr>\n",
       "  </thead>\n",
       "  <tbody>\n",
       "    <tr>\n",
       "      <th>0</th>\n",
       "      <td>S</td>\n",
       "      <td>1</td>\n",
       "    </tr>\n",
       "    <tr>\n",
       "      <th>1</th>\n",
       "      <td>A</td>\n",
       "      <td>2</td>\n",
       "    </tr>\n",
       "    <tr>\n",
       "      <th>2</th>\n",
       "      <td>B</td>\n",
       "      <td>3</td>\n",
       "    </tr>\n",
       "    <tr>\n",
       "      <th>3</th>\n",
       "      <td>C</td>\n",
       "      <td>4</td>\n",
       "    </tr>\n",
       "    <tr>\n",
       "      <th>4</th>\n",
       "      <td>D</td>\n",
       "      <td>3</td>\n",
       "    </tr>\n",
       "    <tr>\n",
       "      <th>5</th>\n",
       "      <td>E</td>\n",
       "      <td>4</td>\n",
       "    </tr>\n",
       "    <tr>\n",
       "      <th>6</th>\n",
       "      <td>U</td>\n",
       "      <td>3</td>\n",
       "    </tr>\n",
       "  </tbody>\n",
       "</table>\n",
       "</div>"
      ],
      "text/plain": [
       "  Grade  Frequency\n",
       "0     S          1\n",
       "1     A          2\n",
       "2     B          3\n",
       "3     C          4\n",
       "4     D          3\n",
       "5     E          4\n",
       "6     U          3"
      ]
     },
     "execution_count": 33,
     "metadata": {},
     "output_type": "execute_result"
    }
   ],
   "source": [
    "data = pd.DataFrame(frequency.items(), columns = ['Grade', 'Frequency'])\n",
    "data"
   ]
  },
  {
   "cell_type": "code",
   "execution_count": 34,
   "metadata": {},
   "outputs": [
    {
     "data": {
      "text/html": [
       "<style  type=\"text/css\" >\n",
       "#T_0d9fc_row0_col0{\n",
       "            background-color:  #ba2049;\n",
       "            color:  #f1f1f1;\n",
       "        }#T_0d9fc_row1_col0{\n",
       "            background-color:  #358bbc;\n",
       "            color:  #000000;\n",
       "        }#T_0d9fc_row2_col0,#T_0d9fc_row18_col0{\n",
       "            background-color:  #9cd7a4;\n",
       "            color:  #000000;\n",
       "        }#T_0d9fc_row3_col0{\n",
       "            background-color:  #fa9857;\n",
       "            color:  #000000;\n",
       "        }#T_0d9fc_row4_col0{\n",
       "            background-color:  #9e0142;\n",
       "            color:  #f1f1f1;\n",
       "        }#T_0d9fc_row5_col0,#T_0d9fc_row7_col0{\n",
       "            background-color:  #fed884;\n",
       "            color:  #000000;\n",
       "        }#T_0d9fc_row6_col0,#T_0d9fc_row11_col0{\n",
       "            background-color:  #f67f4b;\n",
       "            color:  #000000;\n",
       "        }#T_0d9fc_row8_col0{\n",
       "            background-color:  #fff5ae;\n",
       "            color:  #000000;\n",
       "        }#T_0d9fc_row9_col0{\n",
       "            background-color:  #a40844;\n",
       "            color:  #f1f1f1;\n",
       "        }#T_0d9fc_row10_col0,#T_0d9fc_row15_col0{\n",
       "            background-color:  #ddf19a;\n",
       "            color:  #000000;\n",
       "        }#T_0d9fc_row12_col0{\n",
       "            background-color:  #f7fcb2;\n",
       "            color:  #000000;\n",
       "        }#T_0d9fc_row13_col0{\n",
       "            background-color:  #fdc574;\n",
       "            color:  #000000;\n",
       "        }#T_0d9fc_row14_col0{\n",
       "            background-color:  #3b7cb7;\n",
       "            color:  #000000;\n",
       "        }#T_0d9fc_row16_col0{\n",
       "            background-color:  #f98e52;\n",
       "            color:  #000000;\n",
       "        }#T_0d9fc_row17_col0{\n",
       "            background-color:  #aedea3;\n",
       "            color:  #000000;\n",
       "        }#T_0d9fc_row19_col0{\n",
       "            background-color:  #5e4fa2;\n",
       "            color:  #f1f1f1;\n",
       "        }</style><table id=\"T_0d9fc_\" ><thead>    <tr>        <th class=\"blank level0\" ></th>        <th class=\"col_heading level0 col0\" >Marks</th>        <th class=\"col_heading level0 col1\" >Grade</th>    </tr></thead><tbody>\n",
       "                <tr>\n",
       "                        <th id=\"T_0d9fc_level0_row0\" class=\"row_heading level0 row0\" >0</th>\n",
       "                        <td id=\"T_0d9fc_row0_col0\" class=\"data row0 col0\" >17</td>\n",
       "                        <td id=\"T_0d9fc_row0_col1\" class=\"data row0 col1\" >U</td>\n",
       "            </tr>\n",
       "            <tr>\n",
       "                        <th id=\"T_0d9fc_level0_row1\" class=\"row_heading level0 row1\" >1</th>\n",
       "                        <td id=\"T_0d9fc_row1_col0\" class=\"data row1 col0\" >80</td>\n",
       "                        <td id=\"T_0d9fc_row1_col1\" class=\"data row1 col1\" >A</td>\n",
       "            </tr>\n",
       "            <tr>\n",
       "                        <th id=\"T_0d9fc_level0_row2\" class=\"row_heading level0 row2\" >2</th>\n",
       "                        <td id=\"T_0d9fc_row2_col0\" class=\"data row2 col0\" >67</td>\n",
       "                        <td id=\"T_0d9fc_row2_col1\" class=\"data row2 col1\" >B</td>\n",
       "            </tr>\n",
       "            <tr>\n",
       "                        <th id=\"T_0d9fc_level0_row3\" class=\"row_heading level0 row3\" >3</th>\n",
       "                        <td id=\"T_0d9fc_row3_col0\" class=\"data row3 col0\" >33</td>\n",
       "                        <td id=\"T_0d9fc_row3_col1\" class=\"data row3 col1\" >E</td>\n",
       "            </tr>\n",
       "            <tr>\n",
       "                        <th id=\"T_0d9fc_level0_row4\" class=\"row_heading level0 row4\" >4</th>\n",
       "                        <td id=\"T_0d9fc_row4_col0\" class=\"data row4 col0\" >13</td>\n",
       "                        <td id=\"T_0d9fc_row4_col1\" class=\"data row4 col1\" >U</td>\n",
       "            </tr>\n",
       "            <tr>\n",
       "                        <th id=\"T_0d9fc_level0_row5\" class=\"row_heading level0 row5\" >5</th>\n",
       "                        <td id=\"T_0d9fc_row5_col0\" class=\"data row5 col0\" >42</td>\n",
       "                        <td id=\"T_0d9fc_row5_col1\" class=\"data row5 col1\" >D</td>\n",
       "            </tr>\n",
       "            <tr>\n",
       "                        <th id=\"T_0d9fc_level0_row6\" class=\"row_heading level0 row6\" >6</th>\n",
       "                        <td id=\"T_0d9fc_row6_col0\" class=\"data row6 col0\" >30</td>\n",
       "                        <td id=\"T_0d9fc_row6_col1\" class=\"data row6 col1\" >E</td>\n",
       "            </tr>\n",
       "            <tr>\n",
       "                        <th id=\"T_0d9fc_level0_row7\" class=\"row_heading level0 row7\" >7</th>\n",
       "                        <td id=\"T_0d9fc_row7_col0\" class=\"data row7 col0\" >42</td>\n",
       "                        <td id=\"T_0d9fc_row7_col1\" class=\"data row7 col1\" >D</td>\n",
       "            </tr>\n",
       "            <tr>\n",
       "                        <th id=\"T_0d9fc_level0_row8\" class=\"row_heading level0 row8\" >8</th>\n",
       "                        <td id=\"T_0d9fc_row8_col0\" class=\"data row8 col0\" >48</td>\n",
       "                        <td id=\"T_0d9fc_row8_col1\" class=\"data row8 col1\" >C</td>\n",
       "            </tr>\n",
       "            <tr>\n",
       "                        <th id=\"T_0d9fc_level0_row9\" class=\"row_heading level0 row9\" >9</th>\n",
       "                        <td id=\"T_0d9fc_row9_col0\" class=\"data row9 col0\" >14</td>\n",
       "                        <td id=\"T_0d9fc_row9_col1\" class=\"data row9 col1\" >U</td>\n",
       "            </tr>\n",
       "            <tr>\n",
       "                        <th id=\"T_0d9fc_level0_row10\" class=\"row_heading level0 row10\" >10</th>\n",
       "                        <td id=\"T_0d9fc_row10_col0\" class=\"data row10 col0\" >59</td>\n",
       "                        <td id=\"T_0d9fc_row10_col1\" class=\"data row10 col1\" >C</td>\n",
       "            </tr>\n",
       "            <tr>\n",
       "                        <th id=\"T_0d9fc_level0_row11\" class=\"row_heading level0 row11\" >11</th>\n",
       "                        <td id=\"T_0d9fc_row11_col0\" class=\"data row11 col0\" >30</td>\n",
       "                        <td id=\"T_0d9fc_row11_col1\" class=\"data row11 col1\" >E</td>\n",
       "            </tr>\n",
       "            <tr>\n",
       "                        <th id=\"T_0d9fc_level0_row12\" class=\"row_heading level0 row12\" >12</th>\n",
       "                        <td id=\"T_0d9fc_row12_col0\" class=\"data row12 col0\" >53</td>\n",
       "                        <td id=\"T_0d9fc_row12_col1\" class=\"data row12 col1\" >C</td>\n",
       "            </tr>\n",
       "            <tr>\n",
       "                        <th id=\"T_0d9fc_level0_row13\" class=\"row_heading level0 row13\" >13</th>\n",
       "                        <td id=\"T_0d9fc_row13_col0\" class=\"data row13 col0\" >39</td>\n",
       "                        <td id=\"T_0d9fc_row13_col1\" class=\"data row13 col1\" >D</td>\n",
       "            </tr>\n",
       "            <tr>\n",
       "                        <th id=\"T_0d9fc_level0_row14\" class=\"row_heading level0 row14\" >14</th>\n",
       "                        <td id=\"T_0d9fc_row14_col0\" class=\"data row14 col0\" >82</td>\n",
       "                        <td id=\"T_0d9fc_row14_col1\" class=\"data row14 col1\" >A</td>\n",
       "            </tr>\n",
       "            <tr>\n",
       "                        <th id=\"T_0d9fc_level0_row15\" class=\"row_heading level0 row15\" >15</th>\n",
       "                        <td id=\"T_0d9fc_row15_col0\" class=\"data row15 col0\" >59</td>\n",
       "                        <td id=\"T_0d9fc_row15_col1\" class=\"data row15 col1\" >C</td>\n",
       "            </tr>\n",
       "            <tr>\n",
       "                        <th id=\"T_0d9fc_level0_row16\" class=\"row_heading level0 row16\" >16</th>\n",
       "                        <td id=\"T_0d9fc_row16_col0\" class=\"data row16 col0\" >32</td>\n",
       "                        <td id=\"T_0d9fc_row16_col1\" class=\"data row16 col1\" >E</td>\n",
       "            </tr>\n",
       "            <tr>\n",
       "                        <th id=\"T_0d9fc_level0_row17\" class=\"row_heading level0 row17\" >17</th>\n",
       "                        <td id=\"T_0d9fc_row17_col0\" class=\"data row17 col0\" >65</td>\n",
       "                        <td id=\"T_0d9fc_row17_col1\" class=\"data row17 col1\" >B</td>\n",
       "            </tr>\n",
       "            <tr>\n",
       "                        <th id=\"T_0d9fc_level0_row18\" class=\"row_heading level0 row18\" >18</th>\n",
       "                        <td id=\"T_0d9fc_row18_col0\" class=\"data row18 col0\" >67</td>\n",
       "                        <td id=\"T_0d9fc_row18_col1\" class=\"data row18 col1\" >B</td>\n",
       "            </tr>\n",
       "            <tr>\n",
       "                        <th id=\"T_0d9fc_level0_row19\" class=\"row_heading level0 row19\" >19</th>\n",
       "                        <td id=\"T_0d9fc_row19_col0\" class=\"data row19 col0\" >88</td>\n",
       "                        <td id=\"T_0d9fc_row19_col1\" class=\"data row19 col1\" >S</td>\n",
       "            </tr>\n",
       "    </tbody></table>"
      ],
      "text/plain": [
       "<pandas.io.formats.style.Styler at 0x1ac59c05610>"
      ]
     },
     "execution_count": 34,
     "metadata": {},
     "output_type": "execute_result"
    }
   ],
   "source": [
    "marks_list = pd.DataFrame({\"Marks\":TotalMarks, \"Grade\":Grade})\n",
    "marks_list.style.background_gradient(cmap = 'Spectral')"
   ]
  }
 ],
 "metadata": {
  "interpreter": {
   "hash": "c0f70214c0dd213f07f54ee5d6e0ea644bdbba35113c9bfe8aaa0d1db03ad5dd"
  },
  "kernelspec": {
   "display_name": "Python 3.8.8 64-bit ('base': conda)",
   "language": "python",
   "name": "python3"
  },
  "language_info": {
   "codemirror_mode": {
    "name": "ipython",
    "version": 3
   },
   "file_extension": ".py",
   "mimetype": "text/x-python",
   "name": "python",
   "nbconvert_exporter": "python",
   "pygments_lexer": "ipython3",
   "version": "3.8.8"
  },
  "orig_nbformat": 4
 },
 "nbformat": 4,
 "nbformat_minor": 2
}
