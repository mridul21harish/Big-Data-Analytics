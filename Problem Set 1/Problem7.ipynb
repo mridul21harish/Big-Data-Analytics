{
 "cells": [
  {
   "cell_type": "markdown",
   "metadata": {},
   "source": [
    "Question 7 - Develop an application (absolute grader) that accepts marks scored by 20 students in ASBD\n",
    "course (as a split up of three: Mid Sem (30), End Sem (50) and Assignments(20). Compute the\n",
    "total and use it to grade the students following absolute grading: >=90 – S ; >=80 – A and so on\n",
    "till D. Compute the Class average for total marks in the course and 50% of class average would\n",
    "be fixed as the cut off for E. Generate a frequency table for the grades as well (Table displaying\n",
    "the grades and counts of them). Maroon shows failure ( \" U grade \"); similar to a heatmap...cold to warm.\n",
    "The color scheme is automatic and the least grade ends up with red-maroon shade"
   ]
  },
  {
   "cell_type": "code",
   "execution_count": 57,
   "metadata": {},
   "outputs": [],
   "source": [
    "import random\n",
    "from random import randint\n",
    "import numpy as np\n",
    "import pandas as pd\n"
   ]
  },
  {
   "cell_type": "code",
   "execution_count": 51,
   "metadata": {},
   "outputs": [],
   "source": [
    "MidSem = [random.randint(0, 30) for i in range(20)]\n",
    "EndSem = [random.randint(0, 50) for i in range(20)]\n",
    "Assignments = [random.randint(0, 20) for i in range(20)]\n",
    "TotalMarks = np.array([MidSem[i] + EndSem[i] + Assignments[i] for i in range(20)])\n",
    "Grades = ['S', 'A', 'B', 'C', 'D', 'E', 'U']\n",
    "\n",
    "def AbsoluteGrading(TotalMarks, average):\n",
    "    if(TotalMarks >= 90):\n",
    "        return('S')\n",
    "    elif(TotalMarks >= 80):\n",
    "        return('A')\n",
    "    elif(TotalMarks >= 70):\n",
    "        return('B')\n",
    "    elif(TotalMarks >= 60):\n",
    "        return('C')\n",
    "    elif(TotalMarks >= 50):\n",
    "        return('D')\n",
    "    elif(TotalMarks >= (average/2)):\n",
    "        return('E')\n",
    "    else:\n",
    "        return('U')\n",
    "\n",
    "Grade = []\n",
    "for i in range(20):\n",
    "    Grade.append(AbsoluteGrading(TotalMarks[i], TotalMarks.mean()))\n",
    "\n",
    "frequency = {}\n",
    "frequency['S'] = 0\n",
    "frequency['A'] = 0\n",
    "frequency['B'] = 0\n",
    "frequency['C'] = 0\n",
    "frequency['D'] = 0\n",
    "frequency['E'] = 0\n",
    "frequency['U'] = 0\n",
    "\n",
    "for i in Grade:\n",
    "    if i in Grades:\n",
    "        frequency[str(i)] += 1\n"
   ]
  },
  {
   "cell_type": "code",
   "execution_count": 52,
   "metadata": {},
   "outputs": [
    {
     "data": {
      "text/plain": [
       "[17, 0, 8, 19, 20, 18, 9, 12, 29, 9, 22, 25, 21, 11, 2, 17, 17, 17, 24, 8]"
      ]
     },
     "execution_count": 52,
     "metadata": {},
     "output_type": "execute_result"
    }
   ],
   "source": [
    "MidSem"
   ]
  },
  {
   "cell_type": "code",
   "execution_count": 53,
   "metadata": {},
   "outputs": [
    {
     "data": {
      "text/plain": [
       "[30, 23, 46, 22, 16, 10, 29, 19, 50, 8, 8, 39, 7, 0, 47, 38, 16, 27, 11, 48]"
      ]
     },
     "execution_count": 53,
     "metadata": {},
     "output_type": "execute_result"
    }
   ],
   "source": [
    "EndSem"
   ]
  },
  {
   "cell_type": "code",
   "execution_count": 54,
   "metadata": {},
   "outputs": [
    {
     "data": {
      "text/plain": [
       "[4, 5, 8, 19, 1, 11, 4, 6, 14, 3, 3, 17, 9, 15, 6, 7, 3, 15, 0, 17]"
      ]
     },
     "execution_count": 54,
     "metadata": {},
     "output_type": "execute_result"
    }
   ],
   "source": [
    "Assignments"
   ]
  },
  {
   "cell_type": "code",
   "execution_count": 55,
   "metadata": {},
   "outputs": [
    {
     "data": {
      "text/plain": [
       "array([51, 28, 62, 60, 37, 39, 42, 37, 93, 20, 33, 81, 37, 26, 55, 62, 36,\n",
       "       59, 35, 73])"
      ]
     },
     "execution_count": 55,
     "metadata": {},
     "output_type": "execute_result"
    }
   ],
   "source": [
    "TotalMarks"
   ]
  },
  {
   "cell_type": "code",
   "execution_count": 56,
   "metadata": {},
   "outputs": [
    {
     "data": {
      "text/plain": [
       "{'S': 1, 'A': 1, 'B': 1, 'C': 3, 'D': 3, 'E': 10, 'U': 1}"
      ]
     },
     "execution_count": 56,
     "metadata": {},
     "output_type": "execute_result"
    }
   ],
   "source": [
    "frequency"
   ]
  },
  {
   "cell_type": "code",
   "execution_count": 58,
   "metadata": {},
   "outputs": [
    {
     "data": {
      "text/html": [
       "<div>\n",
       "<style scoped>\n",
       "    .dataframe tbody tr th:only-of-type {\n",
       "        vertical-align: middle;\n",
       "    }\n",
       "\n",
       "    .dataframe tbody tr th {\n",
       "        vertical-align: top;\n",
       "    }\n",
       "\n",
       "    .dataframe thead th {\n",
       "        text-align: right;\n",
       "    }\n",
       "</style>\n",
       "<table border=\"1\" class=\"dataframe\">\n",
       "  <thead>\n",
       "    <tr style=\"text-align: right;\">\n",
       "      <th></th>\n",
       "      <th>Grade</th>\n",
       "      <th>Frequency</th>\n",
       "    </tr>\n",
       "  </thead>\n",
       "  <tbody>\n",
       "    <tr>\n",
       "      <th>0</th>\n",
       "      <td>S</td>\n",
       "      <td>1</td>\n",
       "    </tr>\n",
       "    <tr>\n",
       "      <th>1</th>\n",
       "      <td>A</td>\n",
       "      <td>1</td>\n",
       "    </tr>\n",
       "    <tr>\n",
       "      <th>2</th>\n",
       "      <td>B</td>\n",
       "      <td>1</td>\n",
       "    </tr>\n",
       "    <tr>\n",
       "      <th>3</th>\n",
       "      <td>C</td>\n",
       "      <td>3</td>\n",
       "    </tr>\n",
       "    <tr>\n",
       "      <th>4</th>\n",
       "      <td>D</td>\n",
       "      <td>3</td>\n",
       "    </tr>\n",
       "    <tr>\n",
       "      <th>5</th>\n",
       "      <td>E</td>\n",
       "      <td>10</td>\n",
       "    </tr>\n",
       "    <tr>\n",
       "      <th>6</th>\n",
       "      <td>U</td>\n",
       "      <td>1</td>\n",
       "    </tr>\n",
       "  </tbody>\n",
       "</table>\n",
       "</div>"
      ],
      "text/plain": [
       "  Grade  Frequency\n",
       "0     S          1\n",
       "1     A          1\n",
       "2     B          1\n",
       "3     C          3\n",
       "4     D          3\n",
       "5     E         10\n",
       "6     U          1"
      ]
     },
     "execution_count": 58,
     "metadata": {},
     "output_type": "execute_result"
    }
   ],
   "source": [
    "data = pd.DataFrame(frequency.items(), columns = ['Grade', 'Frequency'])\n",
    "data"
   ]
  },
  {
   "cell_type": "code",
   "execution_count": 62,
   "metadata": {},
   "outputs": [
    {
     "data": {
      "text/html": [
       "<style  type=\"text/css\" >\n",
       "#T_b1de1_row0_col0{\n",
       "            background-color:  #fee797;\n",
       "            color:  #000000;\n",
       "        }#T_b1de1_row1_col0{\n",
       "            background-color:  #d8434e;\n",
       "            color:  #f1f1f1;\n",
       "        }#T_b1de1_row2_col0,#T_b1de1_row15_col0{\n",
       "            background-color:  #ecf7a1;\n",
       "            color:  #000000;\n",
       "        }#T_b1de1_row3_col0{\n",
       "            background-color:  #f3faac;\n",
       "            color:  #000000;\n",
       "        }#T_b1de1_row4_col0,#T_b1de1_row7_col0,#T_b1de1_row12_col0{\n",
       "            background-color:  #f7814c;\n",
       "            color:  #000000;\n",
       "        }#T_b1de1_row5_col0{\n",
       "            background-color:  #f99355;\n",
       "            color:  #000000;\n",
       "        }#T_b1de1_row6_col0{\n",
       "            background-color:  #fdaf62;\n",
       "            color:  #000000;\n",
       "        }#T_b1de1_row8_col0{\n",
       "            background-color:  #5e4fa2;\n",
       "            color:  #f1f1f1;\n",
       "        }#T_b1de1_row9_col0{\n",
       "            background-color:  #9e0142;\n",
       "            color:  #f1f1f1;\n",
       "        }#T_b1de1_row10_col0{\n",
       "            background-color:  #ed6246;\n",
       "            color:  #000000;\n",
       "        }#T_b1de1_row11_col0{\n",
       "            background-color:  #54aead;\n",
       "            color:  #000000;\n",
       "        }#T_b1de1_row13_col0{\n",
       "            background-color:  #cb334d;\n",
       "            color:  #f1f1f1;\n",
       "        }#T_b1de1_row14_col0{\n",
       "            background-color:  #fff8b4;\n",
       "            color:  #000000;\n",
       "        }#T_b1de1_row16_col0{\n",
       "            background-color:  #f67a49;\n",
       "            color:  #000000;\n",
       "        }#T_b1de1_row17_col0{\n",
       "            background-color:  #f7fcb2;\n",
       "            color:  #000000;\n",
       "        }#T_b1de1_row18_col0{\n",
       "            background-color:  #f47044;\n",
       "            color:  #000000;\n",
       "        }#T_b1de1_row19_col0{\n",
       "            background-color:  #99d6a4;\n",
       "            color:  #000000;\n",
       "        }</style><table id=\"T_b1de1_\" ><thead>    <tr>        <th class=\"blank level0\" ></th>        <th class=\"col_heading level0 col0\" >Marks</th>        <th class=\"col_heading level0 col1\" >Grade</th>    </tr></thead><tbody>\n",
       "                <tr>\n",
       "                        <th id=\"T_b1de1_level0_row0\" class=\"row_heading level0 row0\" >0</th>\n",
       "                        <td id=\"T_b1de1_row0_col0\" class=\"data row0 col0\" >51</td>\n",
       "                        <td id=\"T_b1de1_row0_col1\" class=\"data row0 col1\" >D</td>\n",
       "            </tr>\n",
       "            <tr>\n",
       "                        <th id=\"T_b1de1_level0_row1\" class=\"row_heading level0 row1\" >1</th>\n",
       "                        <td id=\"T_b1de1_row1_col0\" class=\"data row1 col0\" >28</td>\n",
       "                        <td id=\"T_b1de1_row1_col1\" class=\"data row1 col1\" >E</td>\n",
       "            </tr>\n",
       "            <tr>\n",
       "                        <th id=\"T_b1de1_level0_row2\" class=\"row_heading level0 row2\" >2</th>\n",
       "                        <td id=\"T_b1de1_row2_col0\" class=\"data row2 col0\" >62</td>\n",
       "                        <td id=\"T_b1de1_row2_col1\" class=\"data row2 col1\" >C</td>\n",
       "            </tr>\n",
       "            <tr>\n",
       "                        <th id=\"T_b1de1_level0_row3\" class=\"row_heading level0 row3\" >3</th>\n",
       "                        <td id=\"T_b1de1_row3_col0\" class=\"data row3 col0\" >60</td>\n",
       "                        <td id=\"T_b1de1_row3_col1\" class=\"data row3 col1\" >C</td>\n",
       "            </tr>\n",
       "            <tr>\n",
       "                        <th id=\"T_b1de1_level0_row4\" class=\"row_heading level0 row4\" >4</th>\n",
       "                        <td id=\"T_b1de1_row4_col0\" class=\"data row4 col0\" >37</td>\n",
       "                        <td id=\"T_b1de1_row4_col1\" class=\"data row4 col1\" >E</td>\n",
       "            </tr>\n",
       "            <tr>\n",
       "                        <th id=\"T_b1de1_level0_row5\" class=\"row_heading level0 row5\" >5</th>\n",
       "                        <td id=\"T_b1de1_row5_col0\" class=\"data row5 col0\" >39</td>\n",
       "                        <td id=\"T_b1de1_row5_col1\" class=\"data row5 col1\" >E</td>\n",
       "            </tr>\n",
       "            <tr>\n",
       "                        <th id=\"T_b1de1_level0_row6\" class=\"row_heading level0 row6\" >6</th>\n",
       "                        <td id=\"T_b1de1_row6_col0\" class=\"data row6 col0\" >42</td>\n",
       "                        <td id=\"T_b1de1_row6_col1\" class=\"data row6 col1\" >E</td>\n",
       "            </tr>\n",
       "            <tr>\n",
       "                        <th id=\"T_b1de1_level0_row7\" class=\"row_heading level0 row7\" >7</th>\n",
       "                        <td id=\"T_b1de1_row7_col0\" class=\"data row7 col0\" >37</td>\n",
       "                        <td id=\"T_b1de1_row7_col1\" class=\"data row7 col1\" >E</td>\n",
       "            </tr>\n",
       "            <tr>\n",
       "                        <th id=\"T_b1de1_level0_row8\" class=\"row_heading level0 row8\" >8</th>\n",
       "                        <td id=\"T_b1de1_row8_col0\" class=\"data row8 col0\" >93</td>\n",
       "                        <td id=\"T_b1de1_row8_col1\" class=\"data row8 col1\" >S</td>\n",
       "            </tr>\n",
       "            <tr>\n",
       "                        <th id=\"T_b1de1_level0_row9\" class=\"row_heading level0 row9\" >9</th>\n",
       "                        <td id=\"T_b1de1_row9_col0\" class=\"data row9 col0\" >20</td>\n",
       "                        <td id=\"T_b1de1_row9_col1\" class=\"data row9 col1\" >U</td>\n",
       "            </tr>\n",
       "            <tr>\n",
       "                        <th id=\"T_b1de1_level0_row10\" class=\"row_heading level0 row10\" >10</th>\n",
       "                        <td id=\"T_b1de1_row10_col0\" class=\"data row10 col0\" >33</td>\n",
       "                        <td id=\"T_b1de1_row10_col1\" class=\"data row10 col1\" >E</td>\n",
       "            </tr>\n",
       "            <tr>\n",
       "                        <th id=\"T_b1de1_level0_row11\" class=\"row_heading level0 row11\" >11</th>\n",
       "                        <td id=\"T_b1de1_row11_col0\" class=\"data row11 col0\" >81</td>\n",
       "                        <td id=\"T_b1de1_row11_col1\" class=\"data row11 col1\" >A</td>\n",
       "            </tr>\n",
       "            <tr>\n",
       "                        <th id=\"T_b1de1_level0_row12\" class=\"row_heading level0 row12\" >12</th>\n",
       "                        <td id=\"T_b1de1_row12_col0\" class=\"data row12 col0\" >37</td>\n",
       "                        <td id=\"T_b1de1_row12_col1\" class=\"data row12 col1\" >E</td>\n",
       "            </tr>\n",
       "            <tr>\n",
       "                        <th id=\"T_b1de1_level0_row13\" class=\"row_heading level0 row13\" >13</th>\n",
       "                        <td id=\"T_b1de1_row13_col0\" class=\"data row13 col0\" >26</td>\n",
       "                        <td id=\"T_b1de1_row13_col1\" class=\"data row13 col1\" >E</td>\n",
       "            </tr>\n",
       "            <tr>\n",
       "                        <th id=\"T_b1de1_level0_row14\" class=\"row_heading level0 row14\" >14</th>\n",
       "                        <td id=\"T_b1de1_row14_col0\" class=\"data row14 col0\" >55</td>\n",
       "                        <td id=\"T_b1de1_row14_col1\" class=\"data row14 col1\" >D</td>\n",
       "            </tr>\n",
       "            <tr>\n",
       "                        <th id=\"T_b1de1_level0_row15\" class=\"row_heading level0 row15\" >15</th>\n",
       "                        <td id=\"T_b1de1_row15_col0\" class=\"data row15 col0\" >62</td>\n",
       "                        <td id=\"T_b1de1_row15_col1\" class=\"data row15 col1\" >C</td>\n",
       "            </tr>\n",
       "            <tr>\n",
       "                        <th id=\"T_b1de1_level0_row16\" class=\"row_heading level0 row16\" >16</th>\n",
       "                        <td id=\"T_b1de1_row16_col0\" class=\"data row16 col0\" >36</td>\n",
       "                        <td id=\"T_b1de1_row16_col1\" class=\"data row16 col1\" >E</td>\n",
       "            </tr>\n",
       "            <tr>\n",
       "                        <th id=\"T_b1de1_level0_row17\" class=\"row_heading level0 row17\" >17</th>\n",
       "                        <td id=\"T_b1de1_row17_col0\" class=\"data row17 col0\" >59</td>\n",
       "                        <td id=\"T_b1de1_row17_col1\" class=\"data row17 col1\" >D</td>\n",
       "            </tr>\n",
       "            <tr>\n",
       "                        <th id=\"T_b1de1_level0_row18\" class=\"row_heading level0 row18\" >18</th>\n",
       "                        <td id=\"T_b1de1_row18_col0\" class=\"data row18 col0\" >35</td>\n",
       "                        <td id=\"T_b1de1_row18_col1\" class=\"data row18 col1\" >E</td>\n",
       "            </tr>\n",
       "            <tr>\n",
       "                        <th id=\"T_b1de1_level0_row19\" class=\"row_heading level0 row19\" >19</th>\n",
       "                        <td id=\"T_b1de1_row19_col0\" class=\"data row19 col0\" >73</td>\n",
       "                        <td id=\"T_b1de1_row19_col1\" class=\"data row19 col1\" >B</td>\n",
       "            </tr>\n",
       "    </tbody></table>"
      ],
      "text/plain": [
       "<pandas.io.formats.style.Styler at 0x2b6c525a460>"
      ]
     },
     "execution_count": 62,
     "metadata": {},
     "output_type": "execute_result"
    }
   ],
   "source": [
    "marks_list = pd.DataFrame({\"Marks\":TotalMarks, \"Grade\":Grade})\n",
    "marks_list.style.background_gradient(cmap = 'Spectral')"
   ]
  }
 ],
 "metadata": {
  "interpreter": {
   "hash": "c0f70214c0dd213f07f54ee5d6e0ea644bdbba35113c9bfe8aaa0d1db03ad5dd"
  },
  "kernelspec": {
   "display_name": "Python 3.8.8 64-bit ('base': conda)",
   "language": "python",
   "name": "python3"
  },
  "language_info": {
   "codemirror_mode": {
    "name": "ipython",
    "version": 3
   },
   "file_extension": ".py",
   "mimetype": "text/x-python",
   "name": "python",
   "nbconvert_exporter": "python",
   "pygments_lexer": "ipython3",
   "version": "3.8.8"
  },
  "orig_nbformat": 4
 },
 "nbformat": 4,
 "nbformat_minor": 2
}
