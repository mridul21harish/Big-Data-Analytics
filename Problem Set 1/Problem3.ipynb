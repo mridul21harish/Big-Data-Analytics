{
 "cells": [
  {
   "cell_type": "markdown",
   "metadata": {},
   "source": [
    "Question 3 - For a sample space of 20 elements, the values are fitted to the line Y=2X+3, X>5. Develop an\n",
    "application that sets up the data and computes the standard deviation of this sample space.\n",
    "(use random number generator supported in your development platform to generate values of\n",
    "X)."
   ]
  },
  {
   "cell_type": "code",
   "execution_count": 1,
   "metadata": {},
   "outputs": [],
   "source": [
    "from random import randint\n",
    "import numpy as np"
   ]
  },
  {
   "cell_type": "code",
   "execution_count": 3,
   "metadata": {},
   "outputs": [],
   "source": [
    "def generate_data(n):\n",
    "    def generate_x():\n",
    "        x = []\n",
    "        while len(x) != 20:\n",
    "            x.append(randint(6, 200))\n",
    "            x = list(set(x))\n",
    "        return x\n",
    "\n",
    "    list_x = generate_x()\n",
    "    return[(x, 2*x + 3) for x in list_x]"
   ]
  },
  {
   "cell_type": "code",
   "execution_count": 5,
   "metadata": {},
   "outputs": [
    {
     "data": {
      "text/plain": [
       "[(131, 265),\n",
       " (138, 279),\n",
       " (142, 287),\n",
       " (14, 31),\n",
       " (18, 39),\n",
       " (153, 309),\n",
       " (25, 53),\n",
       " (28, 59),\n",
       " (30, 63),\n",
       " (158, 319),\n",
       " (166, 335),\n",
       " (168, 339),\n",
       " (177, 357),\n",
       " (50, 103),\n",
       " (186, 375),\n",
       " (86, 175),\n",
       " (93, 189),\n",
       " (96, 195),\n",
       " (110, 223),\n",
       " (127, 257)]"
      ]
     },
     "execution_count": 5,
     "metadata": {},
     "output_type": "execute_result"
    }
   ],
   "source": [
    "data = generate_data(20)\n",
    "data"
   ]
  },
  {
   "cell_type": "code",
   "execution_count": 6,
   "metadata": {},
   "outputs": [
    {
     "name": "stdout",
     "output_type": "stream",
     "text": [
      "Standard deviation of the sample space is : 114.54710821317141\n"
     ]
    }
   ],
   "source": [
    "x, y = zip(*data)\n",
    "print(f\"Standard deviation of the sample space is : {np.std(y)}\")"
   ]
  }
 ],
 "metadata": {
  "interpreter": {
   "hash": "c0f70214c0dd213f07f54ee5d6e0ea644bdbba35113c9bfe8aaa0d1db03ad5dd"
  },
  "kernelspec": {
   "display_name": "Python 3.8.8 64-bit ('base': conda)",
   "language": "python",
   "name": "python3"
  },
  "language_info": {
   "codemirror_mode": {
    "name": "ipython",
    "version": 3
   },
   "file_extension": ".py",
   "mimetype": "text/x-python",
   "name": "python",
   "nbconvert_exporter": "python",
   "pygments_lexer": "ipython3",
   "version": "3.8.8"
  },
  "orig_nbformat": 4
 },
 "nbformat": 4,
 "nbformat_minor": 2
}
